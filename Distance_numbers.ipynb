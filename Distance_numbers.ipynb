{
 "cells": [
  {
   "cell_type": "code",
   "execution_count": 55,
   "id": "6f504b56-99f2-44fb-8064-612309dee3e1",
   "metadata": {
    "tags": []
   },
   "outputs": [],
   "source": [
    "import dhlab as dh\n",
    "import pandas as pd\n",
    "import numpy as np\n",
    "import matplotlib.pyplot as plt\n",
    "import dhlab.api.dhlab_api as api\n"
   ]
  },
  {
   "cell_type": "code",
   "execution_count": 370,
   "id": "7b3fe77d-372c-4b75-9edf-9d61208b6529",
   "metadata": {
    "tags": []
   },
   "outputs": [],
   "source": [
    "import ipydagred3 as dp"
   ]
  },
  {
   "cell_type": "code",
   "execution_count": 6,
   "id": "38438742-8690-404f-bdb6-a724b2a15a88",
   "metadata": {
    "tags": []
   },
   "outputs": [],
   "source": [
    "from random import random\n",
    "import math\n",
    "from IPython.display import Markdown"
   ]
  },
  {
   "cell_type": "code",
   "execution_count": 7,
   "id": "9389507e-c026-476c-a6aa-a43b78b1389b",
   "metadata": {
    "tags": []
   },
   "outputs": [
    {
     "data": {
      "text/plain": [
       "count    100.000000\n",
       "mean       4.350000\n",
       "std        2.815452\n",
       "min        0.000000\n",
       "25%        2.000000\n",
       "50%        4.000000\n",
       "75%        7.000000\n",
       "max        9.000000\n",
       "dtype: float64"
      ]
     },
     "execution_count": 7,
     "metadata": {},
     "output_type": "execute_result"
    }
   ],
   "source": [
    "a = pd.Series([int(random()*10) for i in range(100)])\n",
    "a.describe()"
   ]
  },
  {
   "cell_type": "code",
   "execution_count": 8,
   "id": "9b97eec9-acfc-41db-8233-be7a2f1b045a",
   "metadata": {
    "tags": []
   },
   "outputs": [],
   "source": [
    "hist = np.histogram(a)"
   ]
  },
  {
   "cell_type": "code",
   "execution_count": 45,
   "id": "7e350e17-0a8a-4666-8bcf-8d0d95e07185",
   "metadata": {
    "tags": []
   },
   "outputs": [],
   "source": [
    "def series_hist(a):\n",
    "    hist = np.histogram(a)\n",
    "    hst = pd.DataFrame(hist).transpose()\n",
    "    hst.columns = [\"counts\",\"Position\"]\n",
    "    return hst"
   ]
  },
  {
   "cell_type": "code",
   "execution_count": 140,
   "id": "ff201cd0-0978-4229-a7f4-099ef98efe0c",
   "metadata": {
    "tags": []
   },
   "outputs": [],
   "source": [
    "import altair as alt\n",
    "\n",
    "def plot_series(a):\n",
    "    return alt.Chart(series_hist(a)).mark_bar().encode(\n",
    "        alt.X(\"Position\", bin=False),\n",
    "        y='counts',\n",
    "    ).properties(\n",
    "        width=300,\n",
    "        height=100\n",
    "    )"
   ]
  },
  {
   "cell_type": "markdown",
   "id": "01c806a3-3a10-4b4b-91f4-5ecf8b8d69a6",
   "metadata": {},
   "source": [
    "Theoretical mean and variance"
   ]
  },
  {
   "cell_type": "code",
   "execution_count": 10,
   "id": "0b330d47-1bd5-4832-b81e-ecf50f5f263b",
   "metadata": {
    "tags": []
   },
   "outputs": [],
   "source": [
    "N = 10\n",
    "c = pd.Series(list(range(N))*10)"
   ]
  },
  {
   "cell_type": "code",
   "execution_count": 11,
   "id": "d79c68d5-cafb-4929-9fc5-d91b7a4f4be4",
   "metadata": {
    "tags": []
   },
   "outputs": [
    {
     "data": {
      "text/plain": [
       "count    100.000000\n",
       "mean       4.500000\n",
       "std        2.886751\n",
       "min        0.000000\n",
       "25%        2.000000\n",
       "50%        4.500000\n",
       "75%        7.000000\n",
       "max        9.000000\n",
       "dtype: float64"
      ]
     },
     "execution_count": 11,
     "metadata": {},
     "output_type": "execute_result"
    }
   ],
   "source": [
    "c.describe()"
   ]
  },
  {
   "cell_type": "markdown",
   "id": "650bd166-6a91-48d7-ba5d-e46974152d7f",
   "metadata": {},
   "source": [
    "$\\sqrt{\\frac{\\sum{(x-L/2)^2}}{N-1}}$"
   ]
  },
  {
   "cell_type": "code",
   "execution_count": 479,
   "id": "2fa72371-827e-459c-aefe-86fa44b8db66",
   "metadata": {
    "tags": []
   },
   "outputs": [],
   "source": [
    "corpus = dh.Corpus(doctype=\"digibok\", from_year = 2000, subject='historie', limit = 20000).frame"
   ]
  },
  {
   "cell_type": "code",
   "execution_count": 558,
   "id": "c8f746b4-f7b1-4b66-9a00-ac720dae09aa",
   "metadata": {
    "tags": []
   },
   "outputs": [],
   "source": [
    "corpus = pd.read_excel(\"corpus_covid.xlsx\", index_col = 0)"
   ]
  },
  {
   "cell_type": "code",
   "execution_count": 559,
   "id": "7aed9915-a613-49cf-8498-7f07b2dc6109",
   "metadata": {
    "tags": []
   },
   "outputs": [],
   "source": [
    "#corpus.reset_index()"
   ]
  },
  {
   "cell_type": "code",
   "execution_count": 560,
   "id": "d023f32a-c98f-46f6-ba1d-265cc865519a",
   "metadata": {
    "tags": []
   },
   "outputs": [],
   "source": [
    "concs_left = api.word_concordance(dhlabid=list(corpus.reset_index().dhlabid), words=['doser'], before = 10, after=0, limit=5000)"
   ]
  },
  {
   "cell_type": "code",
   "execution_count": 561,
   "id": "ed7bc7f9-3c90-4589-b20d-98ec2d0c5a99",
   "metadata": {
    "tags": []
   },
   "outputs": [],
   "source": [
    "concs_right = api.word_concordance(dhlabid=list(corpus.reset_index().dhlabid), words=['doser'], before = 0, after=10, limit = 5000)"
   ]
  },
  {
   "cell_type": "code",
   "execution_count": 562,
   "id": "d15204a3-9c82-4b98-9630-5e8ee0727f86",
   "metadata": {
    "tags": []
   },
   "outputs": [],
   "source": [
    "left_lists = concs_left.before.fillna('').apply(lambda x: x.split())\n",
    "right_lists = concs_right.after.fillna('').apply(lambda x: x.split())"
   ]
  },
  {
   "cell_type": "code",
   "execution_count": 563,
   "id": "924bcbf7-c841-477c-afe3-0bb579f2aac1",
   "metadata": {
    "tags": []
   },
   "outputs": [],
   "source": [
    "left_words = {}\n",
    "for l in left_lists:\n",
    "    for x in l:\n",
    "        if x in left_words:\n",
    "            left_words[x].append(len(l) - 1 - l.index(x))\n",
    "        else:\n",
    "            left_words[x] = [len(l) - 1 - l.index(x)]"
   ]
  },
  {
   "cell_type": "code",
   "execution_count": 564,
   "id": "9438f146-89a3-4c7d-ba13-2e69efa2515f",
   "metadata": {
    "tags": []
   },
   "outputs": [],
   "source": [
    "right_words = {}\n",
    "for l in right_lists:\n",
    "    for x in l:\n",
    "        if x in right_words:\n",
    "            right_words[x].append(l.index(x))\n",
    "        else:\n",
    "            right_words[x] = [l.index(x)]"
   ]
  },
  {
   "cell_type": "code",
   "execution_count": null,
   "id": "55e70b80-cbd9-43f1-8725-1d5cdb35c82f",
   "metadata": {
    "tags": []
   },
   "outputs": [],
   "source": []
  },
  {
   "cell_type": "code",
   "execution_count": 565,
   "id": "57a53321-7059-4c6c-a119-7771958bae10",
   "metadata": {
    "tags": []
   },
   "outputs": [],
   "source": [
    "left_set = {w:pd.Series(left_words[w]).describe()[['count','mean', 'std']] for w in left_words if len(left_words[w]) >= 5}"
   ]
  },
  {
   "cell_type": "code",
   "execution_count": 566,
   "id": "ae05ece2-b528-470c-93ec-86c689eed97b",
   "metadata": {
    "tags": []
   },
   "outputs": [],
   "source": [
    "right_set = {w:pd.Series(right_words[w]).describe()[['count','mean', 'std']] for w in right_words if len(right_words[w]) >= 5}"
   ]
  },
  {
   "cell_type": "code",
   "execution_count": null,
   "id": "25b54be7-bd5a-4f95-a438-afc353335fc8",
   "metadata": {
    "tags": []
   },
   "outputs": [],
   "source": []
  },
  {
   "cell_type": "code",
   "execution_count": 567,
   "id": "0ef55085-fd7f-4582-8dec-d4c467a4e283",
   "metadata": {
    "tags": []
   },
   "outputs": [],
   "source": [
    "left_df = pd.DataFrame(left_set).transpose()\n",
    "left_df['score'] = left_df['mean']*(left_df['std']+0.3)\n",
    "#left_df['CV'] = 100*left_df['std']/left_df['mean']"
   ]
  },
  {
   "cell_type": "code",
   "execution_count": 568,
   "id": "9d7f3dea-735d-4809-bbba-41129e10b09e",
   "metadata": {
    "tags": []
   },
   "outputs": [],
   "source": [
    "right_df = pd.DataFrame(right_set).transpose()\n",
    "right_df['score'] = right_df['mean']*(right_df['std']+0.3)\n",
    "#right_df['CV'] = 100*right_df['std']/right_df['mean']"
   ]
  },
  {
   "cell_type": "code",
   "execution_count": 569,
   "id": "10ea759c-7b17-4524-b292-f9da8f02df10",
   "metadata": {
    "tags": []
   },
   "outputs": [
    {
     "data": {
      "text/html": [
       "<style type=\"text/css\">\n",
       "#T_991f4 th {\n",
       "  font-size: 18px;\n",
       "}\n",
       "#T_991f4 td {\n",
       "  font-size: 18px;\n",
       "}\n",
       "#T_991f4 tc {\n",
       "  font-size: 18px;\n",
       "}\n",
       "</style>\n",
       "<table id=\"T_991f4\">\n",
       "  <thead>\n",
       "    <tr>\n",
       "      <th class=\"blank level0\" >&nbsp;</th>\n",
       "      <th id=\"T_991f4_level0_col0\" class=\"col_heading level0 col0\" >count</th>\n",
       "      <th id=\"T_991f4_level0_col1\" class=\"col_heading level0 col1\" >mean</th>\n",
       "      <th id=\"T_991f4_level0_col2\" class=\"col_heading level0 col2\" >std</th>\n",
       "      <th id=\"T_991f4_level0_col3\" class=\"col_heading level0 col3\" >score</th>\n",
       "    </tr>\n",
       "  </thead>\n",
       "  <tbody>\n",
       "    <tr>\n",
       "      <th id=\"T_991f4_level0_row0\" class=\"row_heading level0 row0\" >mellomrom</th>\n",
       "      <td id=\"T_991f4_row0_col0\" class=\"data row0 col0\" >45.00</td>\n",
       "      <td id=\"T_991f4_row0_col1\" class=\"data row0 col1\" >4.42</td>\n",
       "      <td id=\"T_991f4_row0_col2\" class=\"data row0 col2\" >1.53</td>\n",
       "      <td id=\"T_991f4_row0_col3\" class=\"data row0 col3\" >8.09</td>\n",
       "    </tr>\n",
       "    <tr>\n",
       "      <th id=\"T_991f4_level0_row1\" class=\"row_heading level0 row1\" >­</th>\n",
       "      <td id=\"T_991f4_row1_col0\" class=\"data row1 col0\" >24.00</td>\n",
       "      <td id=\"T_991f4_row1_col1\" class=\"data row1 col1\" >4.33</td>\n",
       "      <td id=\"T_991f4_row1_col2\" class=\"data row1 col2\" >2.32</td>\n",
       "      <td id=\"T_991f4_row1_col3\" class=\"data row1 col3\" >11.33</td>\n",
       "    </tr>\n",
       "    <tr>\n",
       "      <th id=\"T_991f4_level0_row2\" class=\"row_heading level0 row2\" >skriver</th>\n",
       "      <td id=\"T_991f4_row2_col0\" class=\"data row2 col0\" >21.00</td>\n",
       "      <td id=\"T_991f4_row2_col1\" class=\"data row2 col1\" >4.38</td>\n",
       "      <td id=\"T_991f4_row2_col2\" class=\"data row2 col2\" >2.29</td>\n",
       "      <td id=\"T_991f4_row2_col3\" class=\"data row2 col3\" >11.35</td>\n",
       "    </tr>\n",
       "    <tr>\n",
       "      <th id=\"T_991f4_level0_row3\" class=\"row_heading level0 row3\" >oss</th>\n",
       "      <td id=\"T_991f4_row3_col0\" class=\"data row3 col0\" >21.00</td>\n",
       "      <td id=\"T_991f4_row3_col1\" class=\"data row3 col1\" >4.57</td>\n",
       "      <td id=\"T_991f4_row3_col2\" class=\"data row3 col2\" >2.20</td>\n",
       "      <td id=\"T_991f4_row3_col3\" class=\"data row3 col3\" >11.45</td>\n",
       "    </tr>\n",
       "    <tr>\n",
       "      <th id=\"T_991f4_level0_row4\" class=\"row_heading level0 row4\" >opplyser</th>\n",
       "      <td id=\"T_991f4_row4_col0\" class=\"data row4 col0\" >22.00</td>\n",
       "      <td id=\"T_991f4_row4_col1\" class=\"data row4 col1\" >4.50</td>\n",
       "      <td id=\"T_991f4_row4_col2\" class=\"data row4 col2\" >2.28</td>\n",
       "      <td id=\"T_991f4_row4_col3\" class=\"data row4 col3\" >11.63</td>\n",
       "    </tr>\n",
       "    <tr>\n",
       "      <th id=\"T_991f4_level0_row5\" class=\"row_heading level0 row5\" >dem</th>\n",
       "      <td id=\"T_991f4_row5_col0\" class=\"data row5 col0\" >26.00</td>\n",
       "      <td id=\"T_991f4_row5_col1\" class=\"data row5 col1\" >4.54</td>\n",
       "      <td id=\"T_991f4_row5_col2\" class=\"data row5 col2\" >2.27</td>\n",
       "      <td id=\"T_991f4_row5_col3\" class=\"data row5 col3\" >11.65</td>\n",
       "    </tr>\n",
       "    <tr>\n",
       "      <th id=\"T_991f4_level0_row6\" class=\"row_heading level0 row6\" >sier</th>\n",
       "      <td id=\"T_991f4_row6_col0\" class=\"data row6 col0\" >137.00</td>\n",
       "      <td id=\"T_991f4_row6_col1\" class=\"data row6 col1\" >4.33</td>\n",
       "      <td id=\"T_991f4_row6_col2\" class=\"data row6 col2\" >2.50</td>\n",
       "      <td id=\"T_991f4_row6_col3\" class=\"data row6 col3\" >12.11</td>\n",
       "    </tr>\n",
       "    <tr>\n",
       "      <th id=\"T_991f4_level0_row7\" class=\"row_heading level0 row7\" >ukene</th>\n",
       "      <td id=\"T_991f4_row7_col0\" class=\"data row7 col0\" >23.00</td>\n",
       "      <td id=\"T_991f4_row7_col1\" class=\"data row7 col1\" >4.61</td>\n",
       "      <td id=\"T_991f4_row7_col2\" class=\"data row7 col2\" >2.35</td>\n",
       "      <td id=\"T_991f4_row7_col3\" class=\"data row7 col3\" >12.21</td>\n",
       "    </tr>\n",
       "    <tr>\n",
       "      <th id=\"T_991f4_level0_row8\" class=\"row_heading level0 row8\" >disse</th>\n",
       "      <td id=\"T_991f4_row8_col0\" class=\"data row8 col0\" >42.00</td>\n",
       "      <td id=\"T_991f4_row8_col1\" class=\"data row8 col1\" >4.62</td>\n",
       "      <td id=\"T_991f4_row8_col2\" class=\"data row8 col2\" >2.41</td>\n",
       "      <td id=\"T_991f4_row8_col3\" class=\"data row8 col3\" >12.51</td>\n",
       "    </tr>\n",
       "    <tr>\n",
       "      <th id=\"T_991f4_level0_row9\" class=\"row_heading level0 row9\" >De</th>\n",
       "      <td id=\"T_991f4_row9_col0\" class=\"data row9 col0\" >46.00</td>\n",
       "      <td id=\"T_991f4_row9_col1\" class=\"data row9 col1\" >4.33</td>\n",
       "      <td id=\"T_991f4_row9_col2\" class=\"data row9 col2\" >2.64</td>\n",
       "      <td id=\"T_991f4_row9_col3\" class=\"data row9 col3\" >12.73</td>\n",
       "    </tr>\n",
       "    <tr>\n",
       "      <th id=\"T_991f4_level0_row10\" class=\"row_heading level0 row10\" >ser</th>\n",
       "      <td id=\"T_991f4_row10_col0\" class=\"data row10 col0\" >21.00</td>\n",
       "      <td id=\"T_991f4_row10_col1\" class=\"data row10 col1\" >4.67</td>\n",
       "      <td id=\"T_991f4_row10_col2\" class=\"data row10 col2\" >2.56</td>\n",
       "      <td id=\"T_991f4_row10_col3\" class=\"data row10 col3\" >13.33</td>\n",
       "    </tr>\n",
       "    <tr>\n",
       "      <th id=\"T_991f4_level0_row11\" class=\"row_heading level0 row11\" >Vi</th>\n",
       "      <td id=\"T_991f4_row11_col0\" class=\"data row11 col0\" >72.00</td>\n",
       "      <td id=\"T_991f4_row11_col1\" class=\"data row11 col1\" >4.50</td>\n",
       "      <td id=\"T_991f4_row11_col2\" class=\"data row11 col2\" >2.67</td>\n",
       "      <td id=\"T_991f4_row11_col3\" class=\"data row11 col3\" >13.36</td>\n",
       "    </tr>\n",
       "    <tr>\n",
       "      <th id=\"T_991f4_level0_row12\" class=\"row_heading level0 row12\" >kan</th>\n",
       "      <td id=\"T_991f4_row12_col0\" class=\"data row12 col0\" >106.00</td>\n",
       "      <td id=\"T_991f4_row12_col1\" class=\"data row12 col1\" >4.36</td>\n",
       "      <td id=\"T_991f4_row12_col2\" class=\"data row12 col2\" >2.87</td>\n",
       "      <td id=\"T_991f4_row12_col3\" class=\"data row12 col3\" >13.81</td>\n",
       "    </tr>\n",
       "    <tr>\n",
       "      <th id=\"T_991f4_level0_row13\" class=\"row_heading level0 row13\" >var</th>\n",
       "      <td id=\"T_991f4_row13_col0\" class=\"data row13 col0\" >68.00</td>\n",
       "      <td id=\"T_991f4_row13_col1\" class=\"data row13 col1\" >4.40</td>\n",
       "      <td id=\"T_991f4_row13_col2\" class=\"data row13 col2\" >2.86</td>\n",
       "      <td id=\"T_991f4_row13_col3\" class=\"data row13 col3\" >13.90</td>\n",
       "    </tr>\n",
       "    <tr>\n",
       "      <th id=\"T_991f4_level0_row14\" class=\"row_heading level0 row14\" >alle</th>\n",
       "      <td id=\"T_991f4_row14_col0\" class=\"data row14 col0\" >62.00</td>\n",
       "      <td id=\"T_991f4_row14_col1\" class=\"data row14 col1\" >4.37</td>\n",
       "      <td id=\"T_991f4_row14_col2\" class=\"data row14 col2\" >2.88</td>\n",
       "      <td id=\"T_991f4_row14_col3\" class=\"data row14 col3\" >13.91</td>\n",
       "    </tr>\n",
       "    <tr>\n",
       "      <th id=\"T_991f4_level0_row15\" class=\"row_heading level0 row15\" >den</th>\n",
       "      <td id=\"T_991f4_row15_col0\" class=\"data row15 col0\" >115.00</td>\n",
       "      <td id=\"T_991f4_row15_col1\" class=\"data row15 col1\" >4.52</td>\n",
       "      <td id=\"T_991f4_row15_col2\" class=\"data row15 col2\" >2.80</td>\n",
       "      <td id=\"T_991f4_row15_col3\" class=\"data row15 col3\" >14.00</td>\n",
       "    </tr>\n",
       "    <tr>\n",
       "      <th id=\"T_991f4_level0_row16\" class=\"row_heading level0 row16\" >landet</th>\n",
       "      <td id=\"T_991f4_row16_col0\" class=\"data row16 col0\" >22.00</td>\n",
       "      <td id=\"T_991f4_row16_col1\" class=\"data row16 col1\" >4.41</td>\n",
       "      <td id=\"T_991f4_row16_col2\" class=\"data row16 col2\" >2.89</td>\n",
       "      <td id=\"T_991f4_row16_col3\" class=\"data row16 col3\" >14.06</td>\n",
       "    </tr>\n",
       "    <tr>\n",
       "      <th id=\"T_991f4_level0_row17\" class=\"row_heading level0 row17\" >etter</th>\n",
       "      <td id=\"T_991f4_row17_col0\" class=\"data row17 col0\" >58.00</td>\n",
       "      <td id=\"T_991f4_row17_col1\" class=\"data row17 col1\" >4.66</td>\n",
       "      <td id=\"T_991f4_row17_col2\" class=\"data row17 col2\" >2.74</td>\n",
       "      <td id=\"T_991f4_row17_col3\" class=\"data row17 col3\" >14.14</td>\n",
       "    </tr>\n",
       "    <tr>\n",
       "      <th id=\"T_991f4_level0_row18\" class=\"row_heading level0 row18\" >noen</th>\n",
       "      <td id=\"T_991f4_row18_col0\" class=\"data row18 col0\" >31.00</td>\n",
       "      <td id=\"T_991f4_row18_col1\" class=\"data row18 col1\" >4.39</td>\n",
       "      <td id=\"T_991f4_row18_col2\" class=\"data row18 col2\" >2.97</td>\n",
       "      <td id=\"T_991f4_row18_col3\" class=\"data row18 col3\" >14.36</td>\n",
       "    </tr>\n",
       "    <tr>\n",
       "      <th id=\"T_991f4_level0_row19\" class=\"row_heading level0 row19\" >andre</th>\n",
       "      <td id=\"T_991f4_row19_col0\" class=\"data row19 col0\" >75.00</td>\n",
       "      <td id=\"T_991f4_row19_col1\" class=\"data row19 col1\" >4.57</td>\n",
       "      <td id=\"T_991f4_row19_col2\" class=\"data row19 col2\" >2.86</td>\n",
       "      <td id=\"T_991f4_row19_col3\" class=\"data row19 col3\" >14.46</td>\n",
       "    </tr>\n",
       "  </tbody>\n",
       "</table>\n"
      ],
      "text/plain": [
       "<pandas.io.formats.style.Styler at 0x7fbe2abc6f80>"
      ]
     },
     "execution_count": 569,
     "metadata": {},
     "output_type": "execute_result"
    }
   ],
   "source": [
    "cutoff = 20\n",
    "(right_df[(right_df['count'] >= cutoff) & (right_df['mean']>4.3) & (right_df['mean'] < 4.7)].sort_values(by=['score'])\n",
    " .head(20).dropna()\n",
    " .style.format(precision=2)\n",
    "  .set_table_styles([{'selector':\"th\", 'props':'font-size:18px'},\n",
    "                   {'selector':'td', 'props':'font-size:18px'},\n",
    "                   {'selector':'tc', 'props':'font-size:18px'}])\n",
    ")"
   ]
  },
  {
   "cell_type": "code",
   "execution_count": 571,
   "id": "a68f1120-8a8a-4d97-9d5a-7e05430ba4dc",
   "metadata": {
    "tags": []
   },
   "outputs": [
    {
     "data": {
      "text/html": [
       "<style type=\"text/css\">\n",
       "#T_46592 th {\n",
       "  font-size: 18px;\n",
       "}\n",
       "#T_46592 td {\n",
       "  font-size: 18px;\n",
       "}\n",
       "#T_46592 tc {\n",
       "  font-size: 18px;\n",
       "}\n",
       "</style>\n",
       "<table id=\"T_46592\">\n",
       "  <thead>\n",
       "    <tr>\n",
       "      <th class=\"blank level0\" >&nbsp;</th>\n",
       "      <th id=\"T_46592_level0_col0\" class=\"col_heading level0 col0\" >count</th>\n",
       "      <th id=\"T_46592_level0_col1\" class=\"col_heading level0 col1\" >mean</th>\n",
       "      <th id=\"T_46592_level0_col2\" class=\"col_heading level0 col2\" >std</th>\n",
       "      <th id=\"T_46592_level0_col3\" class=\"col_heading level0 col3\" >score</th>\n",
       "    </tr>\n",
       "  </thead>\n",
       "  <tbody>\n",
       "    <tr>\n",
       "      <th id=\"T_46592_level0_row0\" class=\"row_heading level0 row0\" >Pfizer-vaksinen</th>\n",
       "      <td id=\"T_46592_row0_col0\" class=\"data row0 col0\" >22.00</td>\n",
       "      <td id=\"T_46592_row0_col1\" class=\"data row0 col1\" >1.64</td>\n",
       "      <td id=\"T_46592_row0_col2\" class=\"data row0 col2\" >1.26</td>\n",
       "      <td id=\"T_46592_row0_col3\" class=\"data row0 col3\" >2.55</td>\n",
       "    </tr>\n",
       "    <tr>\n",
       "      <th id=\"T_46592_level0_row1\" class=\"row_heading level0 row1\" >koronavaksine</th>\n",
       "      <td id=\"T_46592_row1_col0\" class=\"data row1 col0\" >51.00</td>\n",
       "      <td id=\"T_46592_row1_col1\" class=\"data row1 col1\" >1.29</td>\n",
       "      <td id=\"T_46592_row1_col2\" class=\"data row1 col2\" >1.74</td>\n",
       "      <td id=\"T_46592_row1_col3\" class=\"data row1 col3\" >2.63</td>\n",
       "    </tr>\n",
       "    <tr>\n",
       "      <th id=\"T_46592_level0_row2\" class=\"row_heading level0 row2\" >per</th>\n",
       "      <td id=\"T_46592_row2_col0\" class=\"data row2 col0\" >44.00</td>\n",
       "      <td id=\"T_46592_row2_col1\" class=\"data row2 col1\" >1.09</td>\n",
       "      <td id=\"T_46592_row2_col2\" class=\"data row2 col2\" >2.23</td>\n",
       "      <td id=\"T_46592_row2_col3\" class=\"data row2 col3\" >2.76</td>\n",
       "    </tr>\n",
       "    <tr>\n",
       "      <th id=\"T_46592_level0_row3\" class=\"row_heading level0 row3\" >beskyttelse</th>\n",
       "      <td id=\"T_46592_row3_col0\" class=\"data row3 col0\" >43.00</td>\n",
       "      <td id=\"T_46592_row3_col1\" class=\"data row3 col1\" >2.86</td>\n",
       "      <td id=\"T_46592_row3_col2\" class=\"data row3 col2\" >1.66</td>\n",
       "      <td id=\"T_46592_row3_col3\" class=\"data row3 col3\" >5.59</td>\n",
       "    </tr>\n",
       "    <tr>\n",
       "      <th id=\"T_46592_level0_row4\" class=\"row_heading level0 row4\" >■</th>\n",
       "      <td id=\"T_46592_row4_col0\" class=\"data row4 col0\" >24.00</td>\n",
       "      <td id=\"T_46592_row4_col1\" class=\"data row4 col1\" >1.67</td>\n",
       "      <td id=\"T_46592_row4_col2\" class=\"data row4 col2\" >3.07</td>\n",
       "      <td id=\"T_46592_row4_col3\" class=\"data row4 col3\" >5.62</td>\n",
       "    </tr>\n",
       "    <tr>\n",
       "      <th id=\"T_46592_level0_row5\" class=\"row_heading level0 row5\" >gir</th>\n",
       "      <td id=\"T_46592_row5_col0\" class=\"data row5 col0\" >39.00</td>\n",
       "      <td id=\"T_46592_row5_col1\" class=\"data row5 col1\" >1.82</td>\n",
       "      <td id=\"T_46592_row5_col2\" class=\"data row5 col2\" >2.86</td>\n",
       "      <td id=\"T_46592_row5_col3\" class=\"data row5 col3\" >5.74</td>\n",
       "    </tr>\n",
       "    <tr>\n",
       "      <th id=\"T_46592_level0_row6\" class=\"row_heading level0 row6\" >glass</th>\n",
       "      <td id=\"T_46592_row6_col0\" class=\"data row6 col0\" >41.00</td>\n",
       "      <td id=\"T_46592_row6_col1\" class=\"data row6 col1\" >2.83</td>\n",
       "      <td id=\"T_46592_row6_col2\" class=\"data row6 col2\" >1.73</td>\n",
       "      <td id=\"T_46592_row6_col3\" class=\"data row6 col3\" >5.75</td>\n",
       "    </tr>\n",
       "    <tr>\n",
       "      <th id=\"T_46592_level0_row7\" class=\"row_heading level0 row7\" >vaksine</th>\n",
       "      <td id=\"T_46592_row7_col0\" class=\"data row7 col0\" >104.00</td>\n",
       "      <td id=\"T_46592_row7_col1\" class=\"data row7 col1\" >2.22</td>\n",
       "      <td id=\"T_46592_row7_col2\" class=\"data row7 col2\" >2.37</td>\n",
       "      <td id=\"T_46592_row7_col3\" class=\"data row7 col3\" >5.94</td>\n",
       "    </tr>\n",
       "    <tr>\n",
       "      <th id=\"T_46592_level0_row8\" class=\"row_heading level0 row8\" >enn</th>\n",
       "      <td id=\"T_46592_row8_col0\" class=\"data row8 col0\" >122.00</td>\n",
       "      <td id=\"T_46592_row8_col1\" class=\"data row8 col1\" >1.95</td>\n",
       "      <td id=\"T_46592_row8_col2\" class=\"data row8 col2\" >2.78</td>\n",
       "      <td id=\"T_46592_row8_col3\" class=\"data row8 col3\" >6.00</td>\n",
       "    </tr>\n",
       "    <tr>\n",
       "      <th id=\"T_46592_level0_row9\" class=\"row_heading level0 row9\" >uka</th>\n",
       "      <td id=\"T_46592_row9_col0\" class=\"data row9 col0\" >47.00</td>\n",
       "      <td id=\"T_46592_row9_col1\" class=\"data row9 col1\" >2.28</td>\n",
       "      <td id=\"T_46592_row9_col2\" class=\"data row9 col2\" >2.40</td>\n",
       "      <td id=\"T_46592_row9_col3\" class=\"data row9 col3\" >6.15</td>\n",
       "    </tr>\n",
       "    <tr>\n",
       "      <th id=\"T_46592_level0_row10\" class=\"row_heading level0 row10\" >vaksinen</th>\n",
       "      <td id=\"T_46592_row10_col0\" class=\"data row10 col0\" >101.00</td>\n",
       "      <td id=\"T_46592_row10_col1\" class=\"data row10 col1\" >2.64</td>\n",
       "      <td id=\"T_46592_row10_col2\" class=\"data row10 col2\" >2.19</td>\n",
       "      <td id=\"T_46592_row10_col3\" class=\"data row10 col3\" >6.59</td>\n",
       "    </tr>\n",
       "    <tr>\n",
       "      <th id=\"T_46592_level0_row11\" class=\"row_heading level0 row11\" >tre</th>\n",
       "      <td id=\"T_46592_row11_col0\" class=\"data row11 col0\" >40.00</td>\n",
       "      <td id=\"T_46592_row11_col1\" class=\"data row11 col1\" >3.17</td>\n",
       "      <td id=\"T_46592_row11_col2\" class=\"data row11 col2\" >1.81</td>\n",
       "      <td id=\"T_46592_row11_col3\" class=\"data row11 col3\" >6.70</td>\n",
       "    </tr>\n",
       "    <tr>\n",
       "      <th id=\"T_46592_level0_row12\" class=\"row_heading level0 row12\" >hvert</th>\n",
       "      <td id=\"T_46592_row12_col0\" class=\"data row12 col0\" >34.00</td>\n",
       "      <td id=\"T_46592_row12_col1\" class=\"data row12 col1\" >2.85</td>\n",
       "      <td id=\"T_46592_row12_col2\" class=\"data row12 col2\" >2.13</td>\n",
       "      <td id=\"T_46592_row12_col3\" class=\"data row12 col3\" >6.94</td>\n",
       "    </tr>\n",
       "    <tr>\n",
       "      <th id=\"T_46592_level0_row13\" class=\"row_heading level0 row13\" >ukers</th>\n",
       "      <td id=\"T_46592_row13_col0\" class=\"data row13 col0\" >37.00</td>\n",
       "      <td id=\"T_46592_row13_col1\" class=\"data row13 col1\" >3.76</td>\n",
       "      <td id=\"T_46592_row13_col2\" class=\"data row13 col2\" >1.57</td>\n",
       "      <td id=\"T_46592_row13_col3\" class=\"data row13 col3\" >7.03</td>\n",
       "    </tr>\n",
       "    <tr>\n",
       "      <th id=\"T_46592_level0_row14\" class=\"row_heading level0 row14\" >fullvaksinert</th>\n",
       "      <td id=\"T_46592_row14_col0\" class=\"data row14 col0\" >35.00</td>\n",
       "      <td id=\"T_46592_row14_col1\" class=\"data row14 col1\" >3.57</td>\n",
       "      <td id=\"T_46592_row14_col2\" class=\"data row14 col2\" >1.72</td>\n",
       "      <td id=\"T_46592_row14_col3\" class=\"data row14 col3\" >7.21</td>\n",
       "    </tr>\n",
       "    <tr>\n",
       "      <th id=\"T_46592_level0_row15\" class=\"row_heading level0 row15\" >betyr</th>\n",
       "      <td id=\"T_46592_row15_col0\" class=\"data row15 col0\" >21.00</td>\n",
       "      <td id=\"T_46592_row15_col1\" class=\"data row15 col1\" >3.14</td>\n",
       "      <td id=\"T_46592_row15_col2\" class=\"data row15 col2\" >2.03</td>\n",
       "      <td id=\"T_46592_row15_col3\" class=\"data row15 col3\" >7.33</td>\n",
       "    </tr>\n",
       "    <tr>\n",
       "      <th id=\"T_46592_level0_row16\" class=\"row_heading level0 row16\" >med</th>\n",
       "      <td id=\"T_46592_row16_col0\" class=\"data row16 col0\" >428.00</td>\n",
       "      <td id=\"T_46592_row16_col1\" class=\"data row16 col1\" >2.24</td>\n",
       "      <td id=\"T_46592_row16_col2\" class=\"data row16 col2\" >2.97</td>\n",
       "      <td id=\"T_46592_row16_col3\" class=\"data row16 col3\" >7.34</td>\n",
       "    </tr>\n",
       "    <tr>\n",
       "      <th id=\"T_46592_level0_row17\" class=\"row_heading level0 row17\" >Pfizer</th>\n",
       "      <td id=\"T_46592_row17_col0\" class=\"data row17 col0\" >87.00</td>\n",
       "      <td id=\"T_46592_row17_col1\" class=\"data row17 col1\" >2.72</td>\n",
       "      <td id=\"T_46592_row17_col2\" class=\"data row17 col2\" >2.45</td>\n",
       "      <td id=\"T_46592_row17_col3\" class=\"data row17 col3\" >7.49</td>\n",
       "    </tr>\n",
       "    <tr>\n",
       "      <th id=\"T_46592_level0_row18\" class=\"row_heading level0 row18\" >innen</th>\n",
       "      <td id=\"T_46592_row18_col0\" class=\"data row18 col0\" >30.00</td>\n",
       "      <td id=\"T_46592_row18_col1\" class=\"data row18 col1\" >2.40</td>\n",
       "      <td id=\"T_46592_row18_col2\" class=\"data row18 col2\" >2.90</td>\n",
       "      <td id=\"T_46592_row18_col3\" class=\"data row18 col3\" >7.67</td>\n",
       "    </tr>\n",
       "    <tr>\n",
       "      <th id=\"T_46592_level0_row19\" class=\"row_heading level0 row19\" >1.</th>\n",
       "      <td id=\"T_46592_row19_col0\" class=\"data row19 col0\" >21.00</td>\n",
       "      <td id=\"T_46592_row19_col1\" class=\"data row19 col1\" >2.62</td>\n",
       "      <td id=\"T_46592_row19_col2\" class=\"data row19 col2\" >2.64</td>\n",
       "      <td id=\"T_46592_row19_col3\" class=\"data row19 col3\" >7.69</td>\n",
       "    </tr>\n",
       "  </tbody>\n",
       "</table>\n"
      ],
      "text/plain": [
       "<pandas.io.formats.style.Styler at 0x7fbe2d759330>"
      ]
     },
     "execution_count": 571,
     "metadata": {},
     "output_type": "execute_result"
    }
   ],
   "source": [
    "cutoff = 20\n",
    "(right_df[(right_df['count'] >= cutoff)].sort_values(by=['score'])\n",
    " .head(20).dropna()\n",
    " .style.format(precision=2)\n",
    "  .set_table_styles([{'selector':\"th\", 'props':'font-size:18px'},\n",
    "                   {'selector':'td', 'props':'font-size:18px'},\n",
    "                   {'selector':'tc', 'props':'font-size:18px'}])\n",
    ")"
   ]
  },
  {
   "cell_type": "code",
   "execution_count": null,
   "id": "8dbb6785-6564-4861-aa6d-af77e3dc4af4",
   "metadata": {},
   "outputs": [],
   "source": []
  },
  {
   "cell_type": "code",
   "execution_count": null,
   "id": "7f77b7ee-7a1a-448a-98ac-28da1821a335",
   "metadata": {},
   "outputs": [],
   "source": [
    "(right_df[(right_df['count'] >= cutoff)].sort_values(by=['score'])\n",
    " .head(20)"
   ]
  },
  {
   "cell_type": "code",
   "execution_count": 570,
   "id": "c1fc781b-788e-4436-8213-05665870e538",
   "metadata": {
    "tags": []
   },
   "outputs": [
    {
     "data": {
      "text/html": [
       "<style type=\"text/css\">\n",
       "#T_5359e th {\n",
       "  font-size: 18px;\n",
       "}\n",
       "#T_5359e td {\n",
       "  font-size: 18px;\n",
       "}\n",
       "#T_5359e tc {\n",
       "  font-size: 18px;\n",
       "}\n",
       "</style>\n",
       "<table id=\"T_5359e\">\n",
       "  <thead>\n",
       "    <tr>\n",
       "      <th class=\"blank level0\" >&nbsp;</th>\n",
       "      <th id=\"T_5359e_level0_col0\" class=\"col_heading level0 col0\" >count</th>\n",
       "      <th id=\"T_5359e_level0_col1\" class=\"col_heading level0 col1\" >mean</th>\n",
       "      <th id=\"T_5359e_level0_col2\" class=\"col_heading level0 col2\" >std</th>\n",
       "      <th id=\"T_5359e_level0_col3\" class=\"col_heading level0 col3\" >score</th>\n",
       "    </tr>\n",
       "  </thead>\n",
       "  <tbody>\n",
       "    <tr>\n",
       "      <th id=\"T_5359e_level0_row0\" class=\"row_heading level0 row0\" >mulig</th>\n",
       "      <td id=\"T_5359e_row0_col0\" class=\"data row0 col0\" >21.00</td>\n",
       "      <td id=\"T_5359e_row0_col1\" class=\"data row0 col1\" >4.57</td>\n",
       "      <td id=\"T_5359e_row0_col2\" class=\"data row0 col2\" >1.75</td>\n",
       "      <td id=\"T_5359e_row0_col3\" class=\"data row0 col3\" >9.36</td>\n",
       "    </tr>\n",
       "    <tr>\n",
       "      <th id=\"T_5359e_level0_row1\" class=\"row_heading level0 row1\" >man</th>\n",
       "      <td id=\"T_5359e_row1_col0\" class=\"data row1 col0\" >61.00</td>\n",
       "      <td id=\"T_5359e_row1_col1\" class=\"data row1 col1\" >4.51</td>\n",
       "      <td id=\"T_5359e_row1_col2\" class=\"data row1 col2\" >1.87</td>\n",
       "      <td id=\"T_5359e_row1_col3\" class=\"data row1 col3\" >9.77</td>\n",
       "    </tr>\n",
       "    <tr>\n",
       "      <th id=\"T_5359e_level0_row2\" class=\"row_heading level0 row2\" >når</th>\n",
       "      <td id=\"T_5359e_row2_col0\" class=\"data row2 col0\" >42.00</td>\n",
       "      <td id=\"T_5359e_row2_col1\" class=\"data row2 col1\" >4.52</td>\n",
       "      <td id=\"T_5359e_row2_col2\" class=\"data row2 col2\" >1.92</td>\n",
       "      <td id=\"T_5359e_row2_col3\" class=\"data row2 col3\" >10.02</td>\n",
       "    </tr>\n",
       "    <tr>\n",
       "      <th id=\"T_5359e_level0_row3\" class=\"row_heading level0 row3\" >hetteglass</th>\n",
       "      <td id=\"T_5359e_row3_col0\" class=\"data row3 col0\" >24.00</td>\n",
       "      <td id=\"T_5359e_row3_col1\" class=\"data row3 col1\" >4.42</td>\n",
       "      <td id=\"T_5359e_row3_col2\" class=\"data row3 col2\" >2.26</td>\n",
       "      <td id=\"T_5359e_row3_col3\" class=\"data row3 col3\" >11.32</td>\n",
       "    </tr>\n",
       "    <tr>\n",
       "      <th id=\"T_5359e_level0_row4\" class=\"row_heading level0 row4\" >skulle</th>\n",
       "      <td id=\"T_5359e_row4_col0\" class=\"data row4 col0\" >39.00</td>\n",
       "      <td id=\"T_5359e_row4_col1\" class=\"data row4 col1\" >4.56</td>\n",
       "      <td id=\"T_5359e_row4_col2\" class=\"data row4 col2\" >2.22</td>\n",
       "      <td id=\"T_5359e_row4_col3\" class=\"data row4 col3\" >11.51</td>\n",
       "    </tr>\n",
       "    <tr>\n",
       "      <th id=\"T_5359e_level0_row5\" class=\"row_heading level0 row5\" >vi</th>\n",
       "      <td id=\"T_5359e_row5_col0\" class=\"data row5 col0\" >274.00</td>\n",
       "      <td id=\"T_5359e_row5_col1\" class=\"data row5 col1\" >4.40</td>\n",
       "      <td id=\"T_5359e_row5_col2\" class=\"data row5 col2\" >2.37</td>\n",
       "      <td id=\"T_5359e_row5_col3\" class=\"data row5 col3\" >11.75</td>\n",
       "    </tr>\n",
       "    <tr>\n",
       "      <th id=\"T_5359e_level0_row6\" class=\"row_heading level0 row6\" >kan</th>\n",
       "      <td id=\"T_5359e_row6_col0\" class=\"data row6 col0\" >92.00</td>\n",
       "      <td id=\"T_5359e_row6_col1\" class=\"data row6 col1\" >4.64</td>\n",
       "      <td id=\"T_5359e_row6_col2\" class=\"data row6 col2\" >2.24</td>\n",
       "      <td id=\"T_5359e_row6_col3\" class=\"data row6 col3\" >11.80</td>\n",
       "    </tr>\n",
       "    <tr>\n",
       "      <th id=\"T_5359e_level0_row7\" class=\"row_heading level0 row7\" >hadde</th>\n",
       "      <td id=\"T_5359e_row7_col0\" class=\"data row7 col0\" >42.00</td>\n",
       "      <td id=\"T_5359e_row7_col1\" class=\"data row7 col1\" >4.69</td>\n",
       "      <td id=\"T_5359e_row7_col2\" class=\"data row7 col2\" >2.23</td>\n",
       "      <td id=\"T_5359e_row7_col3\" class=\"data row7 col3\" >11.84</td>\n",
       "    </tr>\n",
       "    <tr>\n",
       "      <th id=\"T_5359e_level0_row8\" class=\"row_heading level0 row8\" >:</th>\n",
       "      <td id=\"T_5359e_row8_col0\" class=\"data row8 col0\" >126.00</td>\n",
       "      <td id=\"T_5359e_row8_col1\" class=\"data row8 col1\" >4.55</td>\n",
       "      <td id=\"T_5359e_row8_col2\" class=\"data row8 col2\" >2.38</td>\n",
       "      <td id=\"T_5359e_row8_col3\" class=\"data row8 col3\" >12.20</td>\n",
       "    </tr>\n",
       "    <tr>\n",
       "      <th id=\"T_5359e_level0_row9\" class=\"row_heading level0 row9\" >ble</th>\n",
       "      <td id=\"T_5359e_row9_col0\" class=\"data row9 col0\" >63.00</td>\n",
       "      <td id=\"T_5359e_row9_col1\" class=\"data row9 col1\" >4.40</td>\n",
       "      <td id=\"T_5359e_row9_col2\" class=\"data row9 col2\" >2.49</td>\n",
       "      <td id=\"T_5359e_row9_col3\" class=\"data row9 col3\" >12.25</td>\n",
       "    </tr>\n",
       "  </tbody>\n",
       "</table>\n"
      ],
      "text/plain": [
       "<pandas.io.formats.style.Styler at 0x7fbe39dfc0a0>"
      ]
     },
     "execution_count": 570,
     "metadata": {},
     "output_type": "execute_result"
    }
   ],
   "source": [
    "(left_df[(left_df['count'] >= cutoff) & (left_df['mean']>4.3) &\n",
    "         (left_df['mean'] < 4.7)]\n",
    " .sort_values(by=['score']).dropna()\n",
    " .head(10)\n",
    " .style.format(precision=2)\n",
    " .set_table_styles([{'selector':\"th\", 'props':'font-size:18px'},\n",
    "                   {'selector':'td', 'props':'font-size:18px'},\n",
    "                   {'selector':'tc', 'props':'font-size:18px'}])\n",
    ")"
   ]
  },
  {
   "cell_type": "code",
   "execution_count": 575,
   "id": "ff670f6b-1b8f-4837-87a1-c2ae0c5b74d8",
   "metadata": {
    "tags": []
   },
   "outputs": [
    {
     "data": {
      "text/plain": [
       "count    733.000000\n",
       "mean       4.226154\n",
       "std        1.840448\n",
       "min        0.000000\n",
       "25%        2.888889\n",
       "50%        4.600000\n",
       "75%        5.592593\n",
       "max        8.200000\n",
       "Name: mean, dtype: float64"
      ]
     },
     "execution_count": 575,
     "metadata": {},
     "output_type": "execute_result"
    }
   ],
   "source": [
    "left_df['mean'].describe()"
   ]
  },
  {
   "cell_type": "code",
   "execution_count": 577,
   "id": "a8f73113-dfd3-4f22-b893-746bd0800dc1",
   "metadata": {
    "tags": []
   },
   "outputs": [
    {
     "data": {
      "text/plain": [
       "count    664.000000\n",
       "mean       4.496259\n",
       "std        1.372292\n",
       "min        0.000000\n",
       "25%        3.698913\n",
       "50%        4.572381\n",
       "75%        5.419643\n",
       "max        8.583333\n",
       "Name: mean, dtype: float64"
      ]
     },
     "execution_count": 577,
     "metadata": {},
     "output_type": "execute_result"
    }
   ],
   "source": [
    "right_df['mean'].describe()"
   ]
  },
  {
   "cell_type": "code",
   "execution_count": 576,
   "id": "a6fc372b-084b-432f-9a83-f138eb2bd69f",
   "metadata": {
    "tags": []
   },
   "outputs": [
    {
     "data": {
      "text/plain": [
       "count    733.000000\n",
       "mean       2.175524\n",
       "std        0.795994\n",
       "min        0.000000\n",
       "25%        1.765949\n",
       "50%        2.265686\n",
       "75%        2.691277\n",
       "max        4.230839\n",
       "Name: std, dtype: float64"
      ]
     },
     "execution_count": 576,
     "metadata": {},
     "output_type": "execute_result"
    }
   ],
   "source": [
    "left_df['std'].describe()"
   ]
  },
  {
   "cell_type": "code",
   "execution_count": 578,
   "id": "5fb7d612-0b82-4f62-a0e0-9eb2b6fe3dd5",
   "metadata": {
    "tags": []
   },
   "outputs": [
    {
     "data": {
      "text/plain": [
       "count    664.000000\n",
       "mean       2.429594\n",
       "std        0.658147\n",
       "min        0.000000\n",
       "25%        2.073644\n",
       "50%        2.514366\n",
       "75%        2.851584\n",
       "max        4.381780\n",
       "Name: std, dtype: float64"
      ]
     },
     "execution_count": 578,
     "metadata": {},
     "output_type": "execute_result"
    }
   ],
   "source": [
    "right_df['std'].describe()"
   ]
  },
  {
   "cell_type": "code",
   "execution_count": 573,
   "id": "d34113a1-9fbc-4a65-a921-5588a7f2eb1a",
   "metadata": {
    "tags": []
   },
   "outputs": [
    {
     "data": {
      "text/html": [
       "<style type=\"text/css\">\n",
       "#T_e3853 th {\n",
       "  font-size: 18px;\n",
       "}\n",
       "#T_e3853 td {\n",
       "  font-size: 18px;\n",
       "}\n",
       "#T_e3853 tc {\n",
       "  font-size: 18px;\n",
       "}\n",
       "</style>\n",
       "<table id=\"T_e3853\">\n",
       "  <thead>\n",
       "    <tr>\n",
       "      <th class=\"blank level0\" >&nbsp;</th>\n",
       "      <th id=\"T_e3853_level0_col0\" class=\"col_heading level0 col0\" >count</th>\n",
       "      <th id=\"T_e3853_level0_col1\" class=\"col_heading level0 col1\" >mean</th>\n",
       "      <th id=\"T_e3853_level0_col2\" class=\"col_heading level0 col2\" >std</th>\n",
       "      <th id=\"T_e3853_level0_col3\" class=\"col_heading level0 col3\" >score</th>\n",
       "    </tr>\n",
       "  </thead>\n",
       "  <tbody>\n",
       "    <tr>\n",
       "      <th id=\"T_e3853_level0_row0\" class=\"row_heading level0 row0\" >milliarder</th>\n",
       "      <td id=\"T_e3853_row0_col0\" class=\"data row0 col0\" >39.00</td>\n",
       "      <td id=\"T_e3853_row0_col1\" class=\"data row0 col1\" >0.28</td>\n",
       "      <td id=\"T_e3853_row0_col2\" class=\"data row0 col2\" >1.30</td>\n",
       "      <td id=\"T_e3853_row0_col3\" class=\"data row0 col3\" >0.45</td>\n",
       "    </tr>\n",
       "    <tr>\n",
       "      <th id=\"T_e3853_level0_row1\" class=\"row_heading level0 row1\" >200.000</th>\n",
       "      <td id=\"T_e3853_row1_col0\" class=\"data row1 col0\" >21.00</td>\n",
       "      <td id=\"T_e3853_row1_col1\" class=\"data row1 col1\" >0.33</td>\n",
       "      <td id=\"T_e3853_row1_col2\" class=\"data row1 col2\" >1.11</td>\n",
       "      <td id=\"T_e3853_row1_col3\" class=\"data row1 col3\" >0.47</td>\n",
       "    </tr>\n",
       "    <tr>\n",
       "      <th id=\"T_e3853_level0_row2\" class=\"row_heading level0 row2\" >begge</th>\n",
       "      <td id=\"T_e3853_row2_col0\" class=\"data row2 col0\" >21.00</td>\n",
       "      <td id=\"T_e3853_row2_col1\" class=\"data row2 col1\" >0.57</td>\n",
       "      <td id=\"T_e3853_row2_col2\" class=\"data row2 col2\" >1.25</td>\n",
       "      <td id=\"T_e3853_row2_col3\" class=\"data row2 col3\" >0.88</td>\n",
       "    </tr>\n",
       "    <tr>\n",
       "      <th id=\"T_e3853_level0_row3\" class=\"row_heading level0 row3\" >færre</th>\n",
       "      <td id=\"T_e3853_row3_col0\" class=\"data row3 col0\" >72.00</td>\n",
       "      <td id=\"T_e3853_row3_col1\" class=\"data row3 col1\" >0.47</td>\n",
       "      <td id=\"T_e3853_row3_col2\" class=\"data row3 col2\" >1.62</td>\n",
       "      <td id=\"T_e3853_row3_col3\" class=\"data row3 col3\" >0.91</td>\n",
       "    </tr>\n",
       "    <tr>\n",
       "      <th id=\"T_e3853_level0_row4\" class=\"row_heading level0 row4\" >million</th>\n",
       "      <td id=\"T_e3853_row4_col0\" class=\"data row4 col0\" >32.00</td>\n",
       "      <td id=\"T_e3853_row4_col1\" class=\"data row4 col1\" >0.75</td>\n",
       "      <td id=\"T_e3853_row4_col2\" class=\"data row4 col2\" >1.55</td>\n",
       "      <td id=\"T_e3853_row4_col3\" class=\"data row4 col3\" >1.38</td>\n",
       "    </tr>\n",
       "    <tr>\n",
       "      <th id=\"T_e3853_level0_row5\" class=\"row_heading level0 row5\" >Du</th>\n",
       "      <td id=\"T_e3853_row5_col0\" class=\"data row5 col0\" >23.00</td>\n",
       "      <td id=\"T_e3853_row5_col1\" class=\"data row5 col1\" >2.09</td>\n",
       "      <td id=\"T_e3853_row5_col2\" class=\"data row5 col2\" >0.42</td>\n",
       "      <td id=\"T_e3853_row5_col3\" class=\"data row5 col3\" >1.50</td>\n",
       "    </tr>\n",
       "    <tr>\n",
       "      <th id=\"T_e3853_level0_row6\" class=\"row_heading level0 row6\" >mange</th>\n",
       "      <td id=\"T_e3853_row6_col0\" class=\"data row6 col0\" >206.00</td>\n",
       "      <td id=\"T_e3853_row6_col1\" class=\"data row6 col1\" >0.73</td>\n",
       "      <td id=\"T_e3853_row6_col2\" class=\"data row6 col2\" >2.05</td>\n",
       "      <td id=\"T_e3853_row6_col3\" class=\"data row6 col3\" >1.72</td>\n",
       "    </tr>\n",
       "    <tr>\n",
       "      <th id=\"T_e3853_level0_row7\" class=\"row_heading level0 row7\" >store</th>\n",
       "      <td id=\"T_e3853_row7_col0\" class=\"data row7 col0\" >59.00</td>\n",
       "      <td id=\"T_e3853_row7_col1\" class=\"data row7 col1\" >0.75</td>\n",
       "      <td id=\"T_e3853_row7_col2\" class=\"data row7 col2\" >2.06</td>\n",
       "      <td id=\"T_e3853_row7_col3\" class=\"data row7 col3\" >1.76</td>\n",
       "    </tr>\n",
       "    <tr>\n",
       "      <th id=\"T_e3853_level0_row8\" class=\"row_heading level0 row8\" >to</th>\n",
       "      <td id=\"T_e3853_row8_col0\" class=\"data row8 col0\" >499.00</td>\n",
       "      <td id=\"T_e3853_row8_col1\" class=\"data row8 col1\" >0.77</td>\n",
       "      <td id=\"T_e3853_row8_col2\" class=\"data row8 col2\" >2.08</td>\n",
       "      <td id=\"T_e3853_row8_col3\" class=\"data row8 col3\" >1.82</td>\n",
       "    </tr>\n",
       "    <tr>\n",
       "      <th id=\"T_e3853_level0_row9\" class=\"row_heading level0 row9\" >trenger</th>\n",
       "      <td id=\"T_e3853_row9_col0\" class=\"data row9 col0\" >32.00</td>\n",
       "      <td id=\"T_e3853_row9_col1\" class=\"data row9 col1\" >1.47</td>\n",
       "      <td id=\"T_e3853_row9_col2\" class=\"data row9 col2\" >1.39</td>\n",
       "      <td id=\"T_e3853_row9_col3\" class=\"data row9 col3\" >2.48</td>\n",
       "    </tr>\n",
       "    <tr>\n",
       "      <th id=\"T_e3853_level0_row10\" class=\"row_heading level0 row10\" >40.000</th>\n",
       "      <td id=\"T_e3853_row10_col0\" class=\"data row10 col0\" >24.00</td>\n",
       "      <td id=\"T_e3853_row10_col1\" class=\"data row10 col1\" >1.00</td>\n",
       "      <td id=\"T_e3853_row10_col2\" class=\"data row10 col2\" >2.34</td>\n",
       "      <td id=\"T_e3853_row10_col3\" class=\"data row10 col3\" >2.64</td>\n",
       "    </tr>\n",
       "    <tr>\n",
       "      <th id=\"T_e3853_level0_row11\" class=\"row_heading level0 row11\" >000</th>\n",
       "      <td id=\"T_e3853_row11_col0\" class=\"data row11 col0\" >50.00</td>\n",
       "      <td id=\"T_e3853_row11_col1\" class=\"data row11 col1\" >1.06</td>\n",
       "      <td id=\"T_e3853_row11_col2\" class=\"data row11 col2\" >2.22</td>\n",
       "      <td id=\"T_e3853_row11_col3\" class=\"data row11 col3\" >2.67</td>\n",
       "    </tr>\n",
       "    <tr>\n",
       "      <th id=\"T_e3853_level0_row12\" class=\"row_heading level0 row12\" >100.000</th>\n",
       "      <td id=\"T_e3853_row12_col0\" class=\"data row12 col0\" >25.00</td>\n",
       "      <td id=\"T_e3853_row12_col1\" class=\"data row12 col1\" >1.08</td>\n",
       "      <td id=\"T_e3853_row12_col2\" class=\"data row12 col2\" >2.18</td>\n",
       "      <td id=\"T_e3853_row12_col3\" class=\"data row12 col3\" >2.68</td>\n",
       "    </tr>\n",
       "    <tr>\n",
       "      <th id=\"T_e3853_level0_row13\" class=\"row_heading level0 row13\" >200</th>\n",
       "      <td id=\"T_e3853_row13_col0\" class=\"data row13 col0\" >31.00</td>\n",
       "      <td id=\"T_e3853_row13_col1\" class=\"data row13 col1\" >1.26</td>\n",
       "      <td id=\"T_e3853_row13_col2\" class=\"data row13 col2\" >1.90</td>\n",
       "      <td id=\"T_e3853_row13_col3\" class=\"data row13 col3\" >2.76</td>\n",
       "    </tr>\n",
       "    <tr>\n",
       "      <th id=\"T_e3853_level0_row14\" class=\"row_heading level0 row14\" >antall</th>\n",
       "      <td id=\"T_e3853_row14_col0\" class=\"data row14 col0\" >114.00</td>\n",
       "      <td id=\"T_e3853_row14_col1\" class=\"data row14 col1\" >1.02</td>\n",
       "      <td id=\"T_e3853_row14_col2\" class=\"data row14 col2\" >2.46</td>\n",
       "      <td id=\"T_e3853_row14_col3\" class=\"data row14 col3\" >2.81</td>\n",
       "    </tr>\n",
       "    <tr>\n",
       "      <th id=\"T_e3853_level0_row15\" class=\"row_heading level0 row15\" >flere</th>\n",
       "      <td id=\"T_e3853_row15_col0\" class=\"data row15 col0\" >190.00</td>\n",
       "      <td id=\"T_e3853_row15_col1\" class=\"data row15 col1\" >1.06</td>\n",
       "      <td id=\"T_e3853_row15_col2\" class=\"data row15 col2\" >2.36</td>\n",
       "      <td id=\"T_e3853_row15_col3\" class=\"data row15 col3\" >2.82</td>\n",
       "    </tr>\n",
       "    <tr>\n",
       "      <th id=\"T_e3853_level0_row16\" class=\"row_heading level0 row16\" >små</th>\n",
       "      <td id=\"T_e3853_row16_col0\" class=\"data row16 col0\" >38.00</td>\n",
       "      <td id=\"T_e3853_row16_col1\" class=\"data row16 col1\" >1.11</td>\n",
       "      <td id=\"T_e3853_row16_col2\" class=\"data row16 col2\" >2.28</td>\n",
       "      <td id=\"T_e3853_row16_col3\" class=\"data row16 col3\" >2.85</td>\n",
       "    </tr>\n",
       "    <tr>\n",
       "      <th id=\"T_e3853_level0_row17\" class=\"row_heading level0 row17\" >rundt</th>\n",
       "      <td id=\"T_e3853_row17_col0\" class=\"data row17 col0\" >91.00</td>\n",
       "      <td id=\"T_e3853_row17_col1\" class=\"data row17 col1\" >1.76</td>\n",
       "      <td id=\"T_e3853_row17_col2\" class=\"data row17 col2\" >1.34</td>\n",
       "      <td id=\"T_e3853_row17_col3\" class=\"data row17 col3\" >2.88</td>\n",
       "    </tr>\n",
       "    <tr>\n",
       "      <th id=\"T_e3853_level0_row18\" class=\"row_heading level0 row18\" >motta</th>\n",
       "      <td id=\"T_e3853_row18_col0\" class=\"data row18 col0\" >26.00</td>\n",
       "      <td id=\"T_e3853_row18_col1\" class=\"data row18 col1\" >2.00</td>\n",
       "      <td id=\"T_e3853_row18_col2\" class=\"data row18 col2\" >1.17</td>\n",
       "      <td id=\"T_e3853_row18_col3\" class=\"data row18 col3\" >2.93</td>\n",
       "    </tr>\n",
       "    <tr>\n",
       "      <th id=\"T_e3853_level0_row19\" class=\"row_heading level0 row19\" >levere</th>\n",
       "      <td id=\"T_e3853_row19_col0\" class=\"data row19 col0\" >21.00</td>\n",
       "      <td id=\"T_e3853_row19_col1\" class=\"data row19 col1\" >2.52</td>\n",
       "      <td id=\"T_e3853_row19_col2\" class=\"data row19 col2\" >0.98</td>\n",
       "      <td id=\"T_e3853_row19_col3\" class=\"data row19 col3\" >3.23</td>\n",
       "    </tr>\n",
       "  </tbody>\n",
       "</table>\n"
      ],
      "text/plain": [
       "<pandas.io.formats.style.Styler at 0x7fbe2abc8430>"
      ]
     },
     "execution_count": 573,
     "metadata": {},
     "output_type": "execute_result"
    }
   ],
   "source": [
    "(left_df[(left_df['count'] >= cutoff)]\n",
    " .sort_values(by=['score']).dropna()\n",
    " .head(20)\n",
    " .style.format(precision=2)\n",
    " .set_table_styles([{'selector':\"th\", 'props':'font-size:18px'},\n",
    "                   {'selector':'td', 'props':'font-size:18px'},\n",
    "                   {'selector':'tc', 'props':'font-size:18px'}])\n",
    ")"
   ]
  },
  {
   "cell_type": "code",
   "execution_count": 493,
   "id": "fb97f3bc-e6db-4131-953e-81c9fad35fee",
   "metadata": {
    "tags": []
   },
   "outputs": [
    {
     "data": {
      "text/html": [
       "\n",
       "<style>\n",
       "  #altair-viz-6702121ce7e64369869089b36f59ef0f.vega-embed {\n",
       "    width: 100%;\n",
       "    display: flex;\n",
       "  }\n",
       "\n",
       "  #altair-viz-6702121ce7e64369869089b36f59ef0f.vega-embed details,\n",
       "  #altair-viz-6702121ce7e64369869089b36f59ef0f.vega-embed details summary {\n",
       "    position: relative;\n",
       "  }\n",
       "</style>\n",
       "<div id=\"altair-viz-6702121ce7e64369869089b36f59ef0f\"></div>\n",
       "<script type=\"text/javascript\">\n",
       "  var VEGA_DEBUG = (typeof VEGA_DEBUG == \"undefined\") ? {} : VEGA_DEBUG;\n",
       "  (function(spec, embedOpt){\n",
       "    let outputDiv = document.currentScript.previousElementSibling;\n",
       "    if (outputDiv.id !== \"altair-viz-6702121ce7e64369869089b36f59ef0f\") {\n",
       "      outputDiv = document.getElementById(\"altair-viz-6702121ce7e64369869089b36f59ef0f\");\n",
       "    }\n",
       "    const paths = {\n",
       "      \"vega\": \"https://cdn.jsdelivr.net/npm/vega@5?noext\",\n",
       "      \"vega-lib\": \"https://cdn.jsdelivr.net/npm/vega-lib?noext\",\n",
       "      \"vega-lite\": \"https://cdn.jsdelivr.net/npm/vega-lite@5.8.0?noext\",\n",
       "      \"vega-embed\": \"https://cdn.jsdelivr.net/npm/vega-embed@6?noext\",\n",
       "    };\n",
       "\n",
       "    function maybeLoadScript(lib, version) {\n",
       "      var key = `${lib.replace(\"-\", \"\")}_version`;\n",
       "      return (VEGA_DEBUG[key] == version) ?\n",
       "        Promise.resolve(paths[lib]) :\n",
       "        new Promise(function(resolve, reject) {\n",
       "          var s = document.createElement('script');\n",
       "          document.getElementsByTagName(\"head\")[0].appendChild(s);\n",
       "          s.async = true;\n",
       "          s.onload = () => {\n",
       "            VEGA_DEBUG[key] = version;\n",
       "            return resolve(paths[lib]);\n",
       "          };\n",
       "          s.onerror = () => reject(`Error loading script: ${paths[lib]}`);\n",
       "          s.src = paths[lib];\n",
       "        });\n",
       "    }\n",
       "\n",
       "    function showError(err) {\n",
       "      outputDiv.innerHTML = `<div class=\"error\" style=\"color:red;\">${err}</div>`;\n",
       "      throw err;\n",
       "    }\n",
       "\n",
       "    function displayChart(vegaEmbed) {\n",
       "      vegaEmbed(outputDiv, spec, embedOpt)\n",
       "        .catch(err => showError(`Javascript Error: ${err.message}<br>This usually means there's a typo in your chart specification. See the javascript console for the full traceback.`));\n",
       "    }\n",
       "\n",
       "    if(typeof define === \"function\" && define.amd) {\n",
       "      requirejs.config({paths});\n",
       "      require([\"vega-embed\"], displayChart, err => showError(`Error loading script: ${err.message}`));\n",
       "    } else {\n",
       "      maybeLoadScript(\"vega\", \"5\")\n",
       "        .then(() => maybeLoadScript(\"vega-lite\", \"5.8.0\"))\n",
       "        .then(() => maybeLoadScript(\"vega-embed\", \"6\"))\n",
       "        .catch(showError)\n",
       "        .then(() => displayChart(vegaEmbed));\n",
       "    }\n",
       "  })({\"config\": {\"view\": {\"continuousWidth\": 300, \"continuousHeight\": 300}}, \"data\": {\"name\": \"data-4255a37155579a9d467fd62ff51bb815\"}, \"mark\": {\"type\": \"bar\"}, \"encoding\": {\"x\": {\"bin\": false, \"field\": \"Position\", \"type\": \"quantitative\"}, \"y\": {\"field\": \"counts\", \"type\": \"quantitative\"}}, \"height\": 100, \"width\": 300, \"$schema\": \"https://vega.github.io/schema/vega-lite/v5.8.0.json\", \"datasets\": {\"data-4255a37155579a9d467fd62ff51bb815\": [{\"counts\": 1.0, \"Position\": 0.0}, {\"counts\": 136.0, \"Position\": 0.9}, {\"counts\": 20.0, \"Position\": 1.8}, {\"counts\": 29.0, \"Position\": 2.7}, {\"counts\": 8.0, \"Position\": 3.6}, {\"counts\": 29.0, \"Position\": 4.5}, {\"counts\": 5.0, \"Position\": 5.4}, {\"counts\": 12.0, \"Position\": 6.3}, {\"counts\": 7.0, \"Position\": 7.2}, {\"counts\": 11.0, \"Position\": 8.1}, {\"counts\": null, \"Position\": 9.0}]}}, {\"mode\": \"vega-lite\"});\n",
       "</script>"
      ],
      "text/plain": [
       "alt.Chart(...)"
      ]
     },
     "execution_count": 493,
     "metadata": {},
     "output_type": "execute_result"
    }
   ],
   "source": [
    "plot_series(pd.Series(left_words['diktatur']))"
   ]
  },
  {
   "cell_type": "code",
   "execution_count": 494,
   "id": "a705979c-b53c-4f4c-87b0-c21ceac7c230",
   "metadata": {
    "tags": []
   },
   "outputs": [
    {
     "data": {
      "text/html": [
       "\n",
       "<style>\n",
       "  #altair-viz-4c02db2f37a74bcda02689bfe76550ec.vega-embed {\n",
       "    width: 100%;\n",
       "    display: flex;\n",
       "  }\n",
       "\n",
       "  #altair-viz-4c02db2f37a74bcda02689bfe76550ec.vega-embed details,\n",
       "  #altair-viz-4c02db2f37a74bcda02689bfe76550ec.vega-embed details summary {\n",
       "    position: relative;\n",
       "  }\n",
       "</style>\n",
       "<div id=\"altair-viz-4c02db2f37a74bcda02689bfe76550ec\"></div>\n",
       "<script type=\"text/javascript\">\n",
       "  var VEGA_DEBUG = (typeof VEGA_DEBUG == \"undefined\") ? {} : VEGA_DEBUG;\n",
       "  (function(spec, embedOpt){\n",
       "    let outputDiv = document.currentScript.previousElementSibling;\n",
       "    if (outputDiv.id !== \"altair-viz-4c02db2f37a74bcda02689bfe76550ec\") {\n",
       "      outputDiv = document.getElementById(\"altair-viz-4c02db2f37a74bcda02689bfe76550ec\");\n",
       "    }\n",
       "    const paths = {\n",
       "      \"vega\": \"https://cdn.jsdelivr.net/npm/vega@5?noext\",\n",
       "      \"vega-lib\": \"https://cdn.jsdelivr.net/npm/vega-lib?noext\",\n",
       "      \"vega-lite\": \"https://cdn.jsdelivr.net/npm/vega-lite@5.8.0?noext\",\n",
       "      \"vega-embed\": \"https://cdn.jsdelivr.net/npm/vega-embed@6?noext\",\n",
       "    };\n",
       "\n",
       "    function maybeLoadScript(lib, version) {\n",
       "      var key = `${lib.replace(\"-\", \"\")}_version`;\n",
       "      return (VEGA_DEBUG[key] == version) ?\n",
       "        Promise.resolve(paths[lib]) :\n",
       "        new Promise(function(resolve, reject) {\n",
       "          var s = document.createElement('script');\n",
       "          document.getElementsByTagName(\"head\")[0].appendChild(s);\n",
       "          s.async = true;\n",
       "          s.onload = () => {\n",
       "            VEGA_DEBUG[key] = version;\n",
       "            return resolve(paths[lib]);\n",
       "          };\n",
       "          s.onerror = () => reject(`Error loading script: ${paths[lib]}`);\n",
       "          s.src = paths[lib];\n",
       "        });\n",
       "    }\n",
       "\n",
       "    function showError(err) {\n",
       "      outputDiv.innerHTML = `<div class=\"error\" style=\"color:red;\">${err}</div>`;\n",
       "      throw err;\n",
       "    }\n",
       "\n",
       "    function displayChart(vegaEmbed) {\n",
       "      vegaEmbed(outputDiv, spec, embedOpt)\n",
       "        .catch(err => showError(`Javascript Error: ${err.message}<br>This usually means there's a typo in your chart specification. See the javascript console for the full traceback.`));\n",
       "    }\n",
       "\n",
       "    if(typeof define === \"function\" && define.amd) {\n",
       "      requirejs.config({paths});\n",
       "      require([\"vega-embed\"], displayChart, err => showError(`Error loading script: ${err.message}`));\n",
       "    } else {\n",
       "      maybeLoadScript(\"vega\", \"5\")\n",
       "        .then(() => maybeLoadScript(\"vega-lite\", \"5.8.0\"))\n",
       "        .then(() => maybeLoadScript(\"vega-embed\", \"6\"))\n",
       "        .catch(showError)\n",
       "        .then(() => displayChart(vegaEmbed));\n",
       "    }\n",
       "  })({\"config\": {\"view\": {\"continuousWidth\": 300, \"continuousHeight\": 300}}, \"data\": {\"name\": \"data-727056002222dcbe1001f619c4cf1576\"}, \"mark\": {\"type\": \"bar\"}, \"encoding\": {\"x\": {\"bin\": false, \"field\": \"Position\", \"type\": \"quantitative\"}, \"y\": {\"field\": \"counts\", \"type\": \"quantitative\"}}, \"height\": 100, \"width\": 300, \"$schema\": \"https://vega.github.io/schema/vega-lite/v5.8.0.json\", \"datasets\": {\"data-727056002222dcbe1001f619c4cf1576\": [{\"counts\": 1.0, \"Position\": 0.0}, {\"counts\": 142.0, \"Position\": 0.9}, {\"counts\": 34.0, \"Position\": 1.8}, {\"counts\": 29.0, \"Position\": 2.7}, {\"counts\": 22.0, \"Position\": 3.6}, {\"counts\": 30.0, \"Position\": 4.5}, {\"counts\": 18.0, \"Position\": 5.4}, {\"counts\": 18.0, \"Position\": 6.3}, {\"counts\": 9.0, \"Position\": 7.2}, {\"counts\": 10.0, \"Position\": 8.1}, {\"counts\": null, \"Position\": 9.0}]}}, {\"mode\": \"vega-lite\"});\n",
       "</script>"
      ],
      "text/plain": [
       "alt.Chart(...)"
      ]
     },
     "execution_count": 494,
     "metadata": {},
     "output_type": "execute_result"
    }
   ],
   "source": [
    "plot_series(pd.Series(right_words['diktatur']))"
   ]
  },
  {
   "cell_type": "code",
   "execution_count": 495,
   "id": "3082b942-afd1-42e5-9cf2-fefbc32cc65a",
   "metadata": {
    "tags": []
   },
   "outputs": [
    {
     "data": {
      "text/html": [
       "\n",
       "<style>\n",
       "  #altair-viz-9e1d8b4970b74a4490379a71b832e0c4.vega-embed {\n",
       "    width: 100%;\n",
       "    display: flex;\n",
       "  }\n",
       "\n",
       "  #altair-viz-9e1d8b4970b74a4490379a71b832e0c4.vega-embed details,\n",
       "  #altair-viz-9e1d8b4970b74a4490379a71b832e0c4.vega-embed details summary {\n",
       "    position: relative;\n",
       "  }\n",
       "</style>\n",
       "<div id=\"altair-viz-9e1d8b4970b74a4490379a71b832e0c4\"></div>\n",
       "<script type=\"text/javascript\">\n",
       "  var VEGA_DEBUG = (typeof VEGA_DEBUG == \"undefined\") ? {} : VEGA_DEBUG;\n",
       "  (function(spec, embedOpt){\n",
       "    let outputDiv = document.currentScript.previousElementSibling;\n",
       "    if (outputDiv.id !== \"altair-viz-9e1d8b4970b74a4490379a71b832e0c4\") {\n",
       "      outputDiv = document.getElementById(\"altair-viz-9e1d8b4970b74a4490379a71b832e0c4\");\n",
       "    }\n",
       "    const paths = {\n",
       "      \"vega\": \"https://cdn.jsdelivr.net/npm/vega@5?noext\",\n",
       "      \"vega-lib\": \"https://cdn.jsdelivr.net/npm/vega-lib?noext\",\n",
       "      \"vega-lite\": \"https://cdn.jsdelivr.net/npm/vega-lite@5.8.0?noext\",\n",
       "      \"vega-embed\": \"https://cdn.jsdelivr.net/npm/vega-embed@6?noext\",\n",
       "    };\n",
       "\n",
       "    function maybeLoadScript(lib, version) {\n",
       "      var key = `${lib.replace(\"-\", \"\")}_version`;\n",
       "      return (VEGA_DEBUG[key] == version) ?\n",
       "        Promise.resolve(paths[lib]) :\n",
       "        new Promise(function(resolve, reject) {\n",
       "          var s = document.createElement('script');\n",
       "          document.getElementsByTagName(\"head\")[0].appendChild(s);\n",
       "          s.async = true;\n",
       "          s.onload = () => {\n",
       "            VEGA_DEBUG[key] = version;\n",
       "            return resolve(paths[lib]);\n",
       "          };\n",
       "          s.onerror = () => reject(`Error loading script: ${paths[lib]}`);\n",
       "          s.src = paths[lib];\n",
       "        });\n",
       "    }\n",
       "\n",
       "    function showError(err) {\n",
       "      outputDiv.innerHTML = `<div class=\"error\" style=\"color:red;\">${err}</div>`;\n",
       "      throw err;\n",
       "    }\n",
       "\n",
       "    function displayChart(vegaEmbed) {\n",
       "      vegaEmbed(outputDiv, spec, embedOpt)\n",
       "        .catch(err => showError(`Javascript Error: ${err.message}<br>This usually means there's a typo in your chart specification. See the javascript console for the full traceback.`));\n",
       "    }\n",
       "\n",
       "    if(typeof define === \"function\" && define.amd) {\n",
       "      requirejs.config({paths});\n",
       "      require([\"vega-embed\"], displayChart, err => showError(`Error loading script: ${err.message}`));\n",
       "    } else {\n",
       "      maybeLoadScript(\"vega\", \"5\")\n",
       "        .then(() => maybeLoadScript(\"vega-lite\", \"5.8.0\"))\n",
       "        .then(() => maybeLoadScript(\"vega-embed\", \"6\"))\n",
       "        .catch(showError)\n",
       "        .then(() => displayChart(vegaEmbed));\n",
       "    }\n",
       "  })({\"config\": {\"view\": {\"continuousWidth\": 300, \"continuousHeight\": 300}}, \"data\": {\"name\": \"data-76118e36864de6c8528ee51230c76e4c\"}, \"mark\": {\"type\": \"bar\"}, \"encoding\": {\"x\": {\"bin\": false, \"field\": \"Position\", \"type\": \"quantitative\"}, \"y\": {\"field\": \"counts\", \"type\": \"quantitative\"}}, \"height\": 100, \"width\": 300, \"$schema\": \"https://vega.github.io/schema/vega-lite/v5.8.0.json\", \"datasets\": {\"data-76118e36864de6c8528ee51230c76e4c\": [{\"counts\": 109.0, \"Position\": 0.0}, {\"counts\": 71.0, \"Position\": 0.9}, {\"counts\": 46.0, \"Position\": 1.8}, {\"counts\": 33.0, \"Position\": 2.7}, {\"counts\": 48.0, \"Position\": 3.6}, {\"counts\": 43.0, \"Position\": 4.5}, {\"counts\": 32.0, \"Position\": 5.4}, {\"counts\": 43.0, \"Position\": 6.3}, {\"counts\": 42.0, \"Position\": 7.2}, {\"counts\": 42.0, \"Position\": 8.1}, {\"counts\": null, \"Position\": 9.0}]}}, {\"mode\": \"vega-lite\"});\n",
       "</script>"
      ],
      "text/plain": [
       "alt.Chart(...)"
      ]
     },
     "execution_count": 495,
     "metadata": {},
     "output_type": "execute_result"
    }
   ],
   "source": [
    "plot_series(pd.Series(left_words['eller']))"
   ]
  },
  {
   "cell_type": "code",
   "execution_count": null,
   "id": "fb8c8945-0ab8-40db-a002-4bf1fb45a194",
   "metadata": {
    "tags": []
   },
   "outputs": [],
   "source": [
    "plot_series(pd.Series(left_words['eller']))"
   ]
  },
  {
   "cell_type": "code",
   "execution_count": 360,
   "id": "ff67b54c-2660-4c9e-b64d-bc6823f88a77",
   "metadata": {
    "tags": []
   },
   "outputs": [
    {
     "data": {
      "text/html": [
       "\n",
       "<style>\n",
       "  #altair-viz-cc336ee3f0ac4069bc2cd828e95bb770.vega-embed {\n",
       "    width: 100%;\n",
       "    display: flex;\n",
       "  }\n",
       "\n",
       "  #altair-viz-cc336ee3f0ac4069bc2cd828e95bb770.vega-embed details,\n",
       "  #altair-viz-cc336ee3f0ac4069bc2cd828e95bb770.vega-embed details summary {\n",
       "    position: relative;\n",
       "  }\n",
       "</style>\n",
       "<div id=\"altair-viz-cc336ee3f0ac4069bc2cd828e95bb770\"></div>\n",
       "<script type=\"text/javascript\">\n",
       "  var VEGA_DEBUG = (typeof VEGA_DEBUG == \"undefined\") ? {} : VEGA_DEBUG;\n",
       "  (function(spec, embedOpt){\n",
       "    let outputDiv = document.currentScript.previousElementSibling;\n",
       "    if (outputDiv.id !== \"altair-viz-cc336ee3f0ac4069bc2cd828e95bb770\") {\n",
       "      outputDiv = document.getElementById(\"altair-viz-cc336ee3f0ac4069bc2cd828e95bb770\");\n",
       "    }\n",
       "    const paths = {\n",
       "      \"vega\": \"https://cdn.jsdelivr.net/npm/vega@5?noext\",\n",
       "      \"vega-lib\": \"https://cdn.jsdelivr.net/npm/vega-lib?noext\",\n",
       "      \"vega-lite\": \"https://cdn.jsdelivr.net/npm/vega-lite@5.8.0?noext\",\n",
       "      \"vega-embed\": \"https://cdn.jsdelivr.net/npm/vega-embed@6?noext\",\n",
       "    };\n",
       "\n",
       "    function maybeLoadScript(lib, version) {\n",
       "      var key = `${lib.replace(\"-\", \"\")}_version`;\n",
       "      return (VEGA_DEBUG[key] == version) ?\n",
       "        Promise.resolve(paths[lib]) :\n",
       "        new Promise(function(resolve, reject) {\n",
       "          var s = document.createElement('script');\n",
       "          document.getElementsByTagName(\"head\")[0].appendChild(s);\n",
       "          s.async = true;\n",
       "          s.onload = () => {\n",
       "            VEGA_DEBUG[key] = version;\n",
       "            return resolve(paths[lib]);\n",
       "          };\n",
       "          s.onerror = () => reject(`Error loading script: ${paths[lib]}`);\n",
       "          s.src = paths[lib];\n",
       "        });\n",
       "    }\n",
       "\n",
       "    function showError(err) {\n",
       "      outputDiv.innerHTML = `<div class=\"error\" style=\"color:red;\">${err}</div>`;\n",
       "      throw err;\n",
       "    }\n",
       "\n",
       "    function displayChart(vegaEmbed) {\n",
       "      vegaEmbed(outputDiv, spec, embedOpt)\n",
       "        .catch(err => showError(`Javascript Error: ${err.message}<br>This usually means there's a typo in your chart specification. See the javascript console for the full traceback.`));\n",
       "    }\n",
       "\n",
       "    if(typeof define === \"function\" && define.amd) {\n",
       "      requirejs.config({paths});\n",
       "      require([\"vega-embed\"], displayChart, err => showError(`Error loading script: ${err.message}`));\n",
       "    } else {\n",
       "      maybeLoadScript(\"vega\", \"5\")\n",
       "        .then(() => maybeLoadScript(\"vega-lite\", \"5.8.0\"))\n",
       "        .then(() => maybeLoadScript(\"vega-embed\", \"6\"))\n",
       "        .catch(showError)\n",
       "        .then(() => displayChart(vegaEmbed));\n",
       "    }\n",
       "  })({\"config\": {\"view\": {\"continuousWidth\": 300, \"continuousHeight\": 300}}, \"data\": {\"name\": \"data-65bd50bb6d2160510ad30f792f2c71d3\"}, \"mark\": {\"type\": \"bar\"}, \"encoding\": {\"x\": {\"bin\": false, \"field\": \"Position\", \"type\": \"quantitative\"}, \"y\": {\"field\": \"counts\", \"type\": \"quantitative\"}}, \"height\": 100, \"width\": 300, \"$schema\": \"https://vega.github.io/schema/vega-lite/v5.8.0.json\", \"datasets\": {\"data-65bd50bb6d2160510ad30f792f2c71d3\": [{\"counts\": 1.0, \"Position\": 5.0}, {\"counts\": 0.0, \"Position\": 5.2}, {\"counts\": 0.0, \"Position\": 5.4}, {\"counts\": 0.0, \"Position\": 5.6}, {\"counts\": 0.0, \"Position\": 5.8}, {\"counts\": 0.0, \"Position\": 6.0}, {\"counts\": 0.0, \"Position\": 6.2}, {\"counts\": 0.0, \"Position\": 6.4}, {\"counts\": 0.0, \"Position\": 6.6}, {\"counts\": 1.0, \"Position\": 6.8}, {\"counts\": null, \"Position\": 7.0}]}}, {\"mode\": \"vega-lite\"});\n",
       "</script>"
      ],
      "text/plain": [
       "alt.Chart(...)"
      ]
     },
     "execution_count": 360,
     "metadata": {},
     "output_type": "execute_result"
    }
   ],
   "source": [
    "plot_series(pd.Series(left_words['små']))"
   ]
  },
  {
   "cell_type": "code",
   "execution_count": 361,
   "id": "82e98850-595d-42ff-9317-4398a0287507",
   "metadata": {
    "tags": []
   },
   "outputs": [
    {
     "data": {
      "text/html": [
       "\n",
       "<style>\n",
       "  #altair-viz-ab5124d99c9e40249f0ff131d9529a64.vega-embed {\n",
       "    width: 100%;\n",
       "    display: flex;\n",
       "  }\n",
       "\n",
       "  #altair-viz-ab5124d99c9e40249f0ff131d9529a64.vega-embed details,\n",
       "  #altair-viz-ab5124d99c9e40249f0ff131d9529a64.vega-embed details summary {\n",
       "    position: relative;\n",
       "  }\n",
       "</style>\n",
       "<div id=\"altair-viz-ab5124d99c9e40249f0ff131d9529a64\"></div>\n",
       "<script type=\"text/javascript\">\n",
       "  var VEGA_DEBUG = (typeof VEGA_DEBUG == \"undefined\") ? {} : VEGA_DEBUG;\n",
       "  (function(spec, embedOpt){\n",
       "    let outputDiv = document.currentScript.previousElementSibling;\n",
       "    if (outputDiv.id !== \"altair-viz-ab5124d99c9e40249f0ff131d9529a64\") {\n",
       "      outputDiv = document.getElementById(\"altair-viz-ab5124d99c9e40249f0ff131d9529a64\");\n",
       "    }\n",
       "    const paths = {\n",
       "      \"vega\": \"https://cdn.jsdelivr.net/npm/vega@5?noext\",\n",
       "      \"vega-lib\": \"https://cdn.jsdelivr.net/npm/vega-lib?noext\",\n",
       "      \"vega-lite\": \"https://cdn.jsdelivr.net/npm/vega-lite@5.8.0?noext\",\n",
       "      \"vega-embed\": \"https://cdn.jsdelivr.net/npm/vega-embed@6?noext\",\n",
       "    };\n",
       "\n",
       "    function maybeLoadScript(lib, version) {\n",
       "      var key = `${lib.replace(\"-\", \"\")}_version`;\n",
       "      return (VEGA_DEBUG[key] == version) ?\n",
       "        Promise.resolve(paths[lib]) :\n",
       "        new Promise(function(resolve, reject) {\n",
       "          var s = document.createElement('script');\n",
       "          document.getElementsByTagName(\"head\")[0].appendChild(s);\n",
       "          s.async = true;\n",
       "          s.onload = () => {\n",
       "            VEGA_DEBUG[key] = version;\n",
       "            return resolve(paths[lib]);\n",
       "          };\n",
       "          s.onerror = () => reject(`Error loading script: ${paths[lib]}`);\n",
       "          s.src = paths[lib];\n",
       "        });\n",
       "    }\n",
       "\n",
       "    function showError(err) {\n",
       "      outputDiv.innerHTML = `<div class=\"error\" style=\"color:red;\">${err}</div>`;\n",
       "      throw err;\n",
       "    }\n",
       "\n",
       "    function displayChart(vegaEmbed) {\n",
       "      vegaEmbed(outputDiv, spec, embedOpt)\n",
       "        .catch(err => showError(`Javascript Error: ${err.message}<br>This usually means there's a typo in your chart specification. See the javascript console for the full traceback.`));\n",
       "    }\n",
       "\n",
       "    if(typeof define === \"function\" && define.amd) {\n",
       "      requirejs.config({paths});\n",
       "      require([\"vega-embed\"], displayChart, err => showError(`Error loading script: ${err.message}`));\n",
       "    } else {\n",
       "      maybeLoadScript(\"vega\", \"5\")\n",
       "        .then(() => maybeLoadScript(\"vega-lite\", \"5.8.0\"))\n",
       "        .then(() => maybeLoadScript(\"vega-embed\", \"6\"))\n",
       "        .catch(showError)\n",
       "        .then(() => displayChart(vegaEmbed));\n",
       "    }\n",
       "  })({\"config\": {\"view\": {\"continuousWidth\": 300, \"continuousHeight\": 300}}, \"data\": {\"name\": \"data-0e7f5409927ddc1acb48c01c06b50198\"}, \"mark\": {\"type\": \"bar\"}, \"encoding\": {\"x\": {\"bin\": false, \"field\": \"Position\", \"type\": \"quantitative\"}, \"y\": {\"field\": \"counts\", \"type\": \"quantitative\"}}, \"height\": 100, \"width\": 300, \"$schema\": \"https://vega.github.io/schema/vega-lite/v5.8.0.json\", \"datasets\": {\"data-0e7f5409927ddc1acb48c01c06b50198\": [{\"counts\": 1.0, \"Position\": 0.0}, {\"counts\": 7.0, \"Position\": 0.9}, {\"counts\": 12.0, \"Position\": 1.8}, {\"counts\": 5.0, \"Position\": 2.7}, {\"counts\": 9.0, \"Position\": 3.6}, {\"counts\": 9.0, \"Position\": 4.5}, {\"counts\": 7.0, \"Position\": 5.4}, {\"counts\": 6.0, \"Position\": 6.3}, {\"counts\": 10.0, \"Position\": 7.2}, {\"counts\": 9.0, \"Position\": 8.1}, {\"counts\": null, \"Position\": 9.0}]}}, {\"mode\": \"vega-lite\"});\n",
       "</script>"
      ],
      "text/plain": [
       "alt.Chart(...)"
      ]
     },
     "execution_count": 361,
     "metadata": {},
     "output_type": "execute_result"
    }
   ],
   "source": [
    "plot_series(pd.Series(left_words['flere']))"
   ]
  },
  {
   "cell_type": "code",
   "execution_count": 502,
   "id": "4dc0a29d-13e8-413c-bb79-1364ec39159a",
   "metadata": {
    "tags": []
   },
   "outputs": [
    {
     "data": {
      "text/html": [
       "<style type=\"text/css\">\n",
       "#T_1675c th {\n",
       "  font-size: 18px;\n",
       "}\n",
       "#T_1675c td {\n",
       "  font-size: 18px;\n",
       "}\n",
       "#T_1675c tc {\n",
       "  font-size: 18px;\n",
       "}\n",
       "</style>\n",
       "<table id=\"T_1675c\">\n",
       "  <thead>\n",
       "    <tr>\n",
       "      <th class=\"blank level0\" >&nbsp;</th>\n",
       "      <th id=\"T_1675c_level0_col0\" class=\"col_heading level0 col0\" >count</th>\n",
       "      <th id=\"T_1675c_level0_col1\" class=\"col_heading level0 col1\" >mean</th>\n",
       "      <th id=\"T_1675c_level0_col2\" class=\"col_heading level0 col2\" >std</th>\n",
       "      <th id=\"T_1675c_level0_col3\" class=\"col_heading level0 col3\" >score</th>\n",
       "    </tr>\n",
       "  </thead>\n",
       "  <tbody>\n",
       "    <tr>\n",
       "      <th id=\"T_1675c_level0_row0\" class=\"row_heading level0 row0\" >aristokrati</th>\n",
       "      <td id=\"T_1675c_row0_col0\" class=\"data row0 col0\" >95.00</td>\n",
       "      <td id=\"T_1675c_row0_col1\" class=\"data row0 col1\" >2.33</td>\n",
       "      <td id=\"T_1675c_row0_col2\" class=\"data row0 col2\" >2.01</td>\n",
       "      <td id=\"T_1675c_row0_col3\" class=\"data row0 col3\" >5.38</td>\n",
       "    </tr>\n",
       "    <tr>\n",
       "      <th id=\"T_1675c_level0_row1\" class=\"row_heading level0 row1\" >diktatur</th>\n",
       "      <td id=\"T_1675c_row1_col0\" class=\"data row1 col0\" >258.00</td>\n",
       "      <td id=\"T_1675c_row1_col1\" class=\"data row1 col1\" >2.75</td>\n",
       "      <td id=\"T_1675c_row1_col2\" class=\"data row1 col2\" >2.41</td>\n",
       "      <td id=\"T_1675c_row1_col3\" class=\"data row1 col3\" >7.44</td>\n",
       "    </tr>\n",
       "    <tr>\n",
       "      <th id=\"T_1675c_level0_row2\" class=\"row_heading level0 row2\" >demokrati</th>\n",
       "      <td id=\"T_1675c_row2_col0\" class=\"data row2 col0\" >509.00</td>\n",
       "      <td id=\"T_1675c_row2_col1\" class=\"data row2 col1\" >5.72</td>\n",
       "      <td id=\"T_1675c_row2_col2\" class=\"data row2 col2\" >2.35</td>\n",
       "      <td id=\"T_1675c_row2_col3\" class=\"data row2 col3\" >15.17</td>\n",
       "    </tr>\n",
       "    <tr>\n",
       "      <th id=\"T_1675c_level0_row3\" class=\"row_heading level0 row3\" >.</th>\n",
       "      <td id=\"T_1675c_row3_col0\" class=\"data row3 col0\" >6282.00</td>\n",
       "      <td id=\"T_1675c_row3_col1\" class=\"data row3 col1\" >5.69</td>\n",
       "      <td id=\"T_1675c_row3_col2\" class=\"data row3 col2\" >2.41</td>\n",
       "      <td id=\"T_1675c_row3_col3\" class=\"data row3 col3\" >15.40</td>\n",
       "    </tr>\n",
       "  </tbody>\n",
       "</table>\n"
      ],
      "text/plain": [
       "<pandas.io.formats.style.Styler at 0x7fbe2ac0f4f0>"
      ]
     },
     "execution_count": 502,
     "metadata": {},
     "output_type": "execute_result"
    }
   ],
   "source": [
    "(left_df\n",
    " .loc['diktatur aristokrati demokrati .'.split()]\n",
    " .sort_values(by='score')\n",
    " .style\n",
    " .set_table_styles([{'selector':\"th\", 'props':'font-size:18px'},\n",
    "                   {'selector':'td', 'props':'font-size:18px'},\n",
    "                   {'selector':'tc', 'props':'font-size:18px'}])\n",
    " .format(precision=2)\n",
    ")"
   ]
  },
  {
   "cell_type": "markdown",
   "id": "a33ffbc0-2daa-4f18-9da3-abfb71386a99",
   "metadata": {},
   "source": [
    "# Right context for \"doser\""
   ]
  },
  {
   "cell_type": "code",
   "execution_count": 503,
   "id": "d9f88d61-58bf-43d8-aa4a-70073f942ea6",
   "metadata": {
    "tags": []
   },
   "outputs": [
    {
     "data": {
      "text/html": [
       "<style type=\"text/css\">\n",
       "#T_1f825 th {\n",
       "  font-size: 18px;\n",
       "}\n",
       "#T_1f825 td {\n",
       "  font-size: 18px;\n",
       "}\n",
       "#T_1f825 tc {\n",
       "  font-size: 18px;\n",
       "}\n",
       "</style>\n",
       "<table id=\"T_1f825\">\n",
       "  <thead>\n",
       "    <tr>\n",
       "      <th class=\"blank level0\" >&nbsp;</th>\n",
       "      <th id=\"T_1f825_level0_col0\" class=\"col_heading level0 col0\" >count</th>\n",
       "      <th id=\"T_1f825_level0_col1\" class=\"col_heading level0 col1\" >mean</th>\n",
       "      <th id=\"T_1f825_level0_col2\" class=\"col_heading level0 col2\" >std</th>\n",
       "      <th id=\"T_1f825_level0_col3\" class=\"col_heading level0 col3\" >score</th>\n",
       "    </tr>\n",
       "  </thead>\n",
       "  <tbody>\n",
       "    <tr>\n",
       "      <th id=\"T_1f825_level0_row0\" class=\"row_heading level0 row0\" >aristokrati</th>\n",
       "      <td id=\"T_1f825_row0_col0\" class=\"data row0 col0\" >47.00</td>\n",
       "      <td id=\"T_1f825_row0_col1\" class=\"data row0 col1\" >2.36</td>\n",
       "      <td id=\"T_1f825_row0_col2\" class=\"data row0 col2\" >2.28</td>\n",
       "      <td id=\"T_1f825_row0_col3\" class=\"data row0 col3\" >6.09</td>\n",
       "    </tr>\n",
       "    <tr>\n",
       "      <th id=\"T_1f825_level0_row1\" class=\"row_heading level0 row1\" >.</th>\n",
       "      <td id=\"T_1f825_row1_col0\" class=\"data row1 col0\" >13964.00</td>\n",
       "      <td id=\"T_1f825_row1_col1\" class=\"data row1 col1\" >2.94</td>\n",
       "      <td id=\"T_1f825_row1_col2\" class=\"data row1 col2\" >2.98</td>\n",
       "      <td id=\"T_1f825_row1_col3\" class=\"data row1 col3\" >9.65</td>\n",
       "    </tr>\n",
       "    <tr>\n",
       "      <th id=\"T_1f825_level0_row2\" class=\"row_heading level0 row2\" >diktatur</th>\n",
       "      <td id=\"T_1f825_row2_col0\" class=\"data row2 col0\" >313.00</td>\n",
       "      <td id=\"T_1f825_row2_col1\" class=\"data row2 col1\" >2.97</td>\n",
       "      <td id=\"T_1f825_row2_col2\" class=\"data row2 col2\" >2.39</td>\n",
       "      <td id=\"T_1f825_row2_col3\" class=\"data row2 col3\" >8.01</td>\n",
       "    </tr>\n",
       "    <tr>\n",
       "      <th id=\"T_1f825_level0_row3\" class=\"row_heading level0 row3\" >demokrati</th>\n",
       "      <td id=\"T_1f825_row3_col0\" class=\"data row3 col0\" >509.00</td>\n",
       "      <td id=\"T_1f825_row3_col1\" class=\"data row3 col1\" >5.53</td>\n",
       "      <td id=\"T_1f825_row3_col2\" class=\"data row3 col2\" >2.37</td>\n",
       "      <td id=\"T_1f825_row3_col3\" class=\"data row3 col3\" >14.78</td>\n",
       "    </tr>\n",
       "  </tbody>\n",
       "</table>\n"
      ],
      "text/plain": [
       "<pandas.io.formats.style.Styler at 0x7fbe2abe25f0>"
      ]
     },
     "execution_count": 503,
     "metadata": {},
     "output_type": "execute_result"
    }
   ],
   "source": [
    "(right_df\n",
    " .loc['aristokrati diktatur demokrati .'.split()]\n",
    " .sort_values(by='mean')\n",
    " .style\n",
    " .format(precision=2)\n",
    " .set_table_styles([{'selector':\"th\", 'props':'font-size:18px'},\n",
    "                   {'selector':'td', 'props':'font-size:18px'},\n",
    "                   {'selector':'tc', 'props':'font-size:18px'}])\n",
    " .format(precision=2)\n",
    ")"
   ]
  },
  {
   "cell_type": "code",
   "execution_count": 222,
   "id": "ec9376d9-3e3c-4aa4-a311-97e84c857c12",
   "metadata": {
    "tags": []
   },
   "outputs": [
    {
     "data": {
      "text/html": [
       "<style type=\"text/css\">\n",
       "</style>\n",
       "<table id=\"T_dd1df\">\n",
       "  <thead>\n",
       "    <tr>\n",
       "      <th class=\"blank level0\" >&nbsp;</th>\n",
       "      <th id=\"T_dd1df_level0_col0\" class=\"col_heading level0 col0\" >count</th>\n",
       "      <th id=\"T_dd1df_level0_col1\" class=\"col_heading level0 col1\" >mean</th>\n",
       "      <th id=\"T_dd1df_level0_col2\" class=\"col_heading level0 col2\" >std</th>\n",
       "    </tr>\n",
       "  </thead>\n",
       "  <tbody>\n",
       "    <tr>\n",
       "      <th id=\"T_dd1df_level0_row0\" class=\"row_heading level0 row0\" >store</th>\n",
       "      <td id=\"T_dd1df_row0_col0\" class=\"data row0 col0\" >58.00</td>\n",
       "      <td id=\"T_dd1df_row0_col1\" class=\"data row0 col1\" >0.71</td>\n",
       "      <td id=\"T_dd1df_row0_col2\" class=\"data row0 col2\" >2.06</td>\n",
       "    </tr>\n",
       "    <tr>\n",
       "      <th id=\"T_dd1df_level0_row1\" class=\"row_heading level0 row1\" >mange</th>\n",
       "      <td id=\"T_dd1df_row1_col0\" class=\"data row1 col0\" >188.00</td>\n",
       "      <td id=\"T_dd1df_row1_col1\" class=\"data row1 col1\" >0.80</td>\n",
       "      <td id=\"T_dd1df_row1_col2\" class=\"data row1 col2\" >2.13</td>\n",
       "    </tr>\n",
       "    <tr>\n",
       "      <th id=\"T_dd1df_level0_row2\" class=\"row_heading level0 row2\" >antall</th>\n",
       "      <td id=\"T_dd1df_row2_col0\" class=\"data row2 col0\" >88.00</td>\n",
       "      <td id=\"T_dd1df_row2_col1\" class=\"data row2 col1\" >0.98</td>\n",
       "      <td id=\"T_dd1df_row2_col2\" class=\"data row2 col2\" >2.51</td>\n",
       "    </tr>\n",
       "    <tr>\n",
       "      <th id=\"T_dd1df_level0_row3\" class=\"row_heading level0 row3\" >eller</th>\n",
       "      <td id=\"T_dd1df_row3_col0\" class=\"data row3 col0\" >54.00</td>\n",
       "      <td id=\"T_dd1df_row3_col1\" class=\"data row3 col1\" >3.28</td>\n",
       "      <td id=\"T_dd1df_row3_col2\" class=\"data row3 col2\" >2.66</td>\n",
       "    </tr>\n",
       "    <tr>\n",
       "      <th id=\"T_dd1df_level0_row4\" class=\"row_heading level0 row4\" >vaksinert</th>\n",
       "      <td id=\"T_dd1df_row4_col0\" class=\"data row4 col0\" >59.00</td>\n",
       "      <td id=\"T_dd1df_row4_col1\" class=\"data row4 col1\" >3.98</td>\n",
       "      <td id=\"T_dd1df_row4_col2\" class=\"data row4 col2\" >2.38</td>\n",
       "    </tr>\n",
       "    <tr>\n",
       "      <th id=\"T_dd1df_level0_row5\" class=\"row_heading level0 row5\" >FHI</th>\n",
       "      <td id=\"T_dd1df_row5_col0\" class=\"data row5 col0\" >55.00</td>\n",
       "      <td id=\"T_dd1df_row5_col1\" class=\"data row5 col1\" >4.69</td>\n",
       "      <td id=\"T_dd1df_row5_col2\" class=\"data row5 col2\" >2.47</td>\n",
       "    </tr>\n",
       "    <tr>\n",
       "      <th id=\"T_dd1df_level0_row6\" class=\"row_heading level0 row6\" >Pfizer</th>\n",
       "      <td id=\"T_dd1df_row6_col0\" class=\"data row6 col0\" >39.00</td>\n",
       "      <td id=\"T_dd1df_row6_col1\" class=\"data row6 col1\" >5.49</td>\n",
       "      <td id=\"T_dd1df_row6_col2\" class=\"data row6 col2\" >2.56</td>\n",
       "    </tr>\n",
       "  </tbody>\n",
       "</table>\n"
      ],
      "text/plain": [
       "<pandas.io.formats.style.Styler at 0x7fbe2e006020>"
      ]
     },
     "execution_count": 222,
     "metadata": {},
     "output_type": "execute_result"
    }
   ],
   "source": [
    "df.loc[['Pfizer','eller','vaksinert','FHI','antall','store','mange']].sort_values(by='mean').style.format(precision=2)"
   ]
  },
  {
   "cell_type": "code",
   "execution_count": 504,
   "id": "704872ab-7f0e-4179-9124-9cbc517a7046",
   "metadata": {
    "tags": []
   },
   "outputs": [],
   "source": [
    "c = dh.Concordance(corpus, query=\"NEAR(kulturelt demokrati)\")"
   ]
  },
  {
   "cell_type": "code",
   "execution_count": 505,
   "id": "ea7b1def-e752-41d3-b1fe-11d5b5227b92",
   "metadata": {
    "tags": []
   },
   "outputs": [
    {
     "data": {
      "text/plain": [
       "82"
      ]
     },
     "execution_count": 505,
     "metadata": {},
     "output_type": "execute_result"
    }
   ],
   "source": [
    "c.size"
   ]
  },
  {
   "cell_type": "code",
   "execution_count": 507,
   "id": "c67bdace-81dd-4998-ad5d-ef750d08a4bd",
   "metadata": {
    "tags": []
   },
   "outputs": [
    {
     "data": {
      "text/html": [
       "<style type=\"text/css\">\n",
       "</style>\n",
       "<table id=\"T_f98b5\">\n",
       "  <thead>\n",
       "    <tr>\n",
       "      <th class=\"blank level0\" >&nbsp;</th>\n",
       "      <th id=\"T_f98b5_level0_col0\" class=\"col_heading level0 col0\" >link</th>\n",
       "      <th id=\"T_f98b5_level0_col1\" class=\"col_heading level0 col1\" >concordance</th>\n",
       "    </tr>\n",
       "  </thead>\n",
       "  <tbody>\n",
       "    <tr>\n",
       "      <th id=\"T_f98b5_level0_row0\" class=\"row_heading level0 row0\" >60</th>\n",
       "      <td id=\"T_f98b5_row0_col0\" class=\"data row0 col0\" ><a target='_blank' href = 'https://urn.nb.no/URN:NBN:no-nb_pliktmonografi_000001231'>URN:NBN:no-nb_pliktmonografi_000001231</a></td>\n",
       "      <td id=\"T_f98b5_row0_col1\" class=\"data row0 col1\" >... av Stat Fylke / kommune Næringsliv Forankring Nasjonen Lokalsamfunnet Verden Motto Demokratisering av kultur <b>Kulturelt</b> <b>demokrati</b> Utbytte / lønnsomhet Rasjonalitet... </td>\n",
       "    </tr>\n",
       "    <tr>\n",
       "      <th id=\"T_f98b5_level0_row1\" class=\"row_heading level0 row1\" >68</th>\n",
       "      <td id=\"T_f98b5_row1_col0\" class=\"data row1 col0\" ><a target='_blank' href = 'https://urn.nb.no/URN:NBN:no-nb_digibok_2020042248015'>URN:NBN:no-nb_digibok_2020042248015</a></td>\n",
       "      <td id=\"T_f98b5_row1_col1\" class=\"data row1 col1\" >Balterne gikk ut i gatene og krevde <b>kulturelt</b> og politisk selvstyre , <b>demokrati</b> og rettferdighet . Deres kampsaker var således... </td>\n",
       "    </tr>\n",
       "    <tr>\n",
       "      <th id=\"T_f98b5_level0_row2\" class=\"row_heading level0 row2\" >58</th>\n",
       "      <td id=\"T_f98b5_row2_col0\" class=\"data row2 col0\" ><a target='_blank' href = 'https://urn.nb.no/URN:NBN:no-nb_digibok_2022101448081'>URN:NBN:no-nb_digibok_2022101448081</a></td>\n",
       "      <td id=\"T_f98b5_row2_col1\" class=\"data row2 col1\" >... overfor Frihed og politisk , retsligt , <b>kulturelt</b> , socialt og økonomisk <b>Demokrati</b> tænker sig , at de tilsvarende Love... </td>\n",
       "    </tr>\n",
       "    <tr>\n",
       "      <th id=\"T_f98b5_level0_row3\" class=\"row_heading level0 row3\" >64</th>\n",
       "      <td id=\"T_f98b5_row3_col0\" class=\"data row3 col0\" ><a target='_blank' href = 'https://urn.nb.no/URN:NBN:no-nb_pliktmonografi_000013079'>URN:NBN:no-nb_pliktmonografi_000013079</a></td>\n",
       "      <td id=\"T_f98b5_row3_col1\" class=\"data row3 col1\" >... I stedet var det « <b>kulturelt</b> <b>demokrati</b> » som gjaldt , og da i betydningen at det var perspektiver , interesser og... </td>\n",
       "    </tr>\n",
       "    <tr>\n",
       "      <th id=\"T_f98b5_level0_row4\" class=\"row_heading level0 row4\" >30</th>\n",
       "      <td id=\"T_f98b5_row4_col0\" class=\"data row4 col0\" ><a target='_blank' href = 'https://urn.nb.no/URN:NBN:no-nb_digibok_2009072101019'>URN:NBN:no-nb_digibok_2009072101019</a></td>\n",
       "      <td id=\"T_f98b5_row4_col1\" class=\"data row4 col1\" >KUNSTFORMIDLING PÅ 90 - TALLET - <b>KULTURELT</b> <b>DEMOKRATI</b> OG KUNSTFELTETS AUTONOMI</td>\n",
       "    </tr>\n",
       "    <tr>\n",
       "      <th id=\"T_f98b5_level0_row5\" class=\"row_heading level0 row5\" >35</th>\n",
       "      <td id=\"T_f98b5_row5_col0\" class=\"data row5 col0\" ><a target='_blank' href = 'https://urn.nb.no/URN:NBN:no-nb_digibok_2014120807552'>URN:NBN:no-nb_digibok_2014120807552</a></td>\n",
       "      <td id=\"T_f98b5_row5_col1\" class=\"data row5 col1\" >... Her settes målene klarere , også tankene om <b>kulturelt</b> <b>demokrati</b> , « kultur for alle » , med egenaktivitet som et gode... </td>\n",
       "    </tr>\n",
       "    <tr>\n",
       "      <th id=\"T_f98b5_level0_row6\" class=\"row_heading level0 row6\" >59</th>\n",
       "      <td id=\"T_f98b5_row6_col0\" class=\"data row6 col0\" ><a target='_blank' href = 'https://urn.nb.no/URN:NBN:no-nb_pliktmonografi_000001231'>URN:NBN:no-nb_pliktmonografi_000001231</a></td>\n",
       "      <td id=\"T_f98b5_row6_col1\" class=\"data row6 col1\" >... Demokratisering av kulturen , som betegner den gamle « kulturspreiingstanken » , og <b>kulturelt</b> <b>demokrati</b> som åpnet for et mer pluralistisk verdigrunnlag... </td>\n",
       "    </tr>\n",
       "    <tr>\n",
       "      <th id=\"T_f98b5_level0_row7\" class=\"row_heading level0 row7\" >19</th>\n",
       "      <td id=\"T_f98b5_row7_col0\" class=\"data row7 col0\" ><a target='_blank' href = 'https://urn.nb.no/URN:NBN:no-nb_digibok_2009072101019'>URN:NBN:no-nb_digibok_2009072101019</a></td>\n",
       "      <td id=\"T_f98b5_row7_col1\" class=\"data row7 col1\" >5 KUNSTFORMIDLING PÅ 90 - TALLET - <b>KULTURELT</b> <b>DEMOKRATI</b> OG KUNSTFELTETS AUTONOMI 91</td>\n",
       "    </tr>\n",
       "    <tr>\n",
       "      <th id=\"T_f98b5_level0_row8\" class=\"row_heading level0 row8\" >34</th>\n",
       "      <td id=\"T_f98b5_row8_col0\" class=\"data row8 col0\" ><a target='_blank' href = 'https://urn.nb.no/URN:NBN:no-nb_digibok_2009072101019'>URN:NBN:no-nb_digibok_2009072101019</a></td>\n",
       "      <td id=\"T_f98b5_row8_col1\" class=\"data row8 col1\" >... Begge prosjektene holder fast ved en forståelse av kunstformidling som knytter an til tanker om <b>kulturelt</b> <b>demokrati</b> slik de kom... </td>\n",
       "    </tr>\n",
       "    <tr>\n",
       "      <th id=\"T_f98b5_level0_row9\" class=\"row_heading level0 row9\" >66</th>\n",
       "      <td id=\"T_f98b5_row9_col0\" class=\"data row9 col0\" ><a target='_blank' href = 'https://urn.nb.no/URN:NBN:no-nb_pliktmonografi_000013475'>URN:NBN:no-nb_pliktmonografi_000013475</a></td>\n",
       "      <td id=\"T_f98b5_row9_col1\" class=\"data row9 col1\" >... menneskeverd , identitet og <b>kulturelt</b> mangfold , kritisk tenkning og etisk bevissthet , og <b>demokrati</b> og medvirkning . Til slutt... </td>\n",
       "    </tr>\n",
       "    <tr>\n",
       "      <th id=\"T_f98b5_level0_row10\" class=\"row_heading level0 row10\" >77</th>\n",
       "      <td id=\"T_f98b5_row10_col0\" class=\"data row10 col0\" ><a target='_blank' href = 'https://urn.nb.no/URN:NBN:no-nb_digibok_2018073048040'>URN:NBN:no-nb_digibok_2018073048040</a></td>\n",
       "      <td id=\"T_f98b5_row10_col1\" class=\"data row10 col1\" >... Der demokratisering av kulturen var det sentrale slagordet i den første perioden , var det nå <b>kulturelt</b> <b>demokrati</b> som var... </td>\n",
       "    </tr>\n",
       "    <tr>\n",
       "      <th id=\"T_f98b5_level0_row11\" class=\"row_heading level0 row11\" >5</th>\n",
       "      <td id=\"T_f98b5_row11_col0\" class=\"data row11 col0\" ><a target='_blank' href = 'https://urn.nb.no/URN:NBN:no-nb_digibok_2011093005029'>URN:NBN:no-nb_digibok_2011093005029</a></td>\n",
       "      <td id=\"T_f98b5_row11_col1\" class=\"data row11 col1\" >... Lyche såg folkeopplysninga som ledd i utbygginga av \" <b>kulturelt</b> <b>demokrati</b> \" som ho definerte som like sjansar for alle til å... </td>\n",
       "    </tr>\n",
       "    <tr>\n",
       "      <th id=\"T_f98b5_level0_row12\" class=\"row_heading level0 row12\" >54</th>\n",
       "      <td id=\"T_f98b5_row12_col0\" class=\"data row12 col0\" ><a target='_blank' href = 'https://urn.nb.no/URN:NBN:no-nb_digibok_2011091608297'>URN:NBN:no-nb_digibok_2011091608297</a></td>\n",
       "      <td id=\"T_f98b5_row12_col1\" class=\"data row12 col1\" >... førestellingar om commitment , social change og eit verkeleg <b>kulturelt</b> <b>demokrati</b> som vart slagordet for den nye kulturpolitikken . Da... </td>\n",
       "    </tr>\n",
       "    <tr>\n",
       "      <th id=\"T_f98b5_level0_row13\" class=\"row_heading level0 row13\" >22</th>\n",
       "      <td id=\"T_f98b5_row13_col0\" class=\"data row13 col0\" ><a target='_blank' href = 'https://urn.nb.no/URN:NBN:no-nb_digibok_2009072101019'>URN:NBN:no-nb_digibok_2009072101019</a></td>\n",
       "      <td id=\"T_f98b5_row13_col1\" class=\"data row13 col1\" >og fylkeskommuners ambisjoner om å desentralisere kulturpolitiske ordninger er forankret i ideer om <b>kulturelt</b> <b>demokrati</b> . Disse tendensene peker i... </td>\n",
       "    </tr>\n",
       "    <tr>\n",
       "      <th id=\"T_f98b5_level0_row14\" class=\"row_heading level0 row14\" >38</th>\n",
       "      <td id=\"T_f98b5_row14_col0\" class=\"data row14 col0\" ><a target='_blank' href = 'https://urn.nb.no/URN:NBN:no-nb_digibok_2014050805175'>URN:NBN:no-nb_digibok_2014050805175</a></td>\n",
       "      <td id=\"T_f98b5_row14_col1\" class=\"data row14 col1\" >... politiske saker knyttet til <b>demokrati</b> og menneskerettigheter . Blant annet for å vise politisk og <b>kulturelt</b> felleskap i det nye... </td>\n",
       "    </tr>\n",
       "    <tr>\n",
       "      <th id=\"T_f98b5_level0_row15\" class=\"row_heading level0 row15\" >69</th>\n",
       "      <td id=\"T_f98b5_row15_col0\" class=\"data row15 col0\" ><a target='_blank' href = 'https://urn.nb.no/URN:NBN:no-nb_digibok_2020051188007'>URN:NBN:no-nb_digibok_2020051188007</a></td>\n",
       "      <td id=\"T_f98b5_row15_col1\" class=\"data row15 col1\" >... og muligheter i spenningsfeltet mellom <b>kulturelt</b> mangfold og universelle menneskerettigheder i et liberalt <b>demokrati</b> » , og jubilæet skal rette opmærksomhed... </td>\n",
       "    </tr>\n",
       "    <tr>\n",
       "      <th id=\"T_f98b5_level0_row16\" class=\"row_heading level0 row16\" >28</th>\n",
       "      <td id=\"T_f98b5_row16_col0\" class=\"data row16 col0\" ><a target='_blank' href = 'https://urn.nb.no/URN:NBN:no-nb_digibok_2009072101019'>URN:NBN:no-nb_digibok_2009072101019</a></td>\n",
       "      <td id=\"T_f98b5_row16_col1\" class=\"data row16 col1\" >... på vei var forankret i de samme ideene om <b>kulturelt</b> <b>demokrati</b> som lå til grunn for etableringen av de kommunale... </td>\n",
       "    </tr>\n",
       "    <tr>\n",
       "      <th id=\"T_f98b5_level0_row17\" class=\"row_heading level0 row17\" >25</th>\n",
       "      <td id=\"T_f98b5_row17_col0\" class=\"data row17 col0\" ><a target='_blank' href = 'https://urn.nb.no/URN:NBN:no-nb_digibok_2009072101019'>URN:NBN:no-nb_digibok_2009072101019</a></td>\n",
       "      <td id=\"T_f98b5_row17_col1\" class=\"data row17 col1\" >... Målsetningene for Teater for ungdom var langt på vei forankret i ideer om <b>kulturelt</b> <b>demokrati</b> , mens Riksteatret fremdeles representerer... </td>\n",
       "    </tr>\n",
       "    <tr>\n",
       "      <th id=\"T_f98b5_level0_row18\" class=\"row_heading level0 row18\" >24</th>\n",
       "      <td id=\"T_f98b5_row18_col0\" class=\"data row18 col0\" ><a target='_blank' href = 'https://urn.nb.no/URN:NBN:no-nb_digibok_2009072101019'>URN:NBN:no-nb_digibok_2009072101019</a></td>\n",
       "      <td id=\"T_f98b5_row18_col1\" class=\"data row18 col1\" >... Mens kulturforvaltningens tenkemåter er forankret i ideer om <b>kulturelt</b> <b>demokrati</b> , er profesjonelle teaterkunstneres tenkemåter og ambisjoner tett knyttet til... </td>\n",
       "    </tr>\n",
       "    <tr>\n",
       "      <th id=\"T_f98b5_level0_row19\" class=\"row_heading level0 row19\" >55</th>\n",
       "      <td id=\"T_f98b5_row19_col0\" class=\"data row19 col0\" ><a target='_blank' href = 'https://urn.nb.no/URN:NBN:no-nb_digibok_2020102007611'>URN:NBN:no-nb_digibok_2020102007611</a></td>\n",
       "      <td id=\"T_f98b5_row19_col1\" class=\"data row19 col1\" >... riksting ” , ” de faglige organisasjoner ” , \" <b>kulturelt</b> og økonomisk selvstyre ” , \" regjeringens stilling ” og ” et nasjonalt <b>demokrati</b> ” bl.a. følgende :</td>\n",
       "    </tr>\n",
       "    <tr>\n",
       "      <th id=\"T_f98b5_level0_row20\" class=\"row_heading level0 row20\" >40</th>\n",
       "      <td id=\"T_f98b5_row20_col0\" class=\"data row20 col0\" ><a target='_blank' href = 'https://urn.nb.no/URN:NBN:no-nb_digibok_2011060106139'>URN:NBN:no-nb_digibok_2011060106139</a></td>\n",
       "      <td id=\"T_f98b5_row20_col1\" class=\"data row20 col1\" >... 8 honnørordet virkelig « <b>kulturelt</b> <b>demokrati</b> » . Ved å bruke slike skjellsord og honnørord , gjorde man all argumentasjon overflødig .</td>\n",
       "    </tr>\n",
       "    <tr>\n",
       "      <th id=\"T_f98b5_level0_row21\" class=\"row_heading level0 row21\" >10</th>\n",
       "      <td id=\"T_f98b5_row21_col0\" class=\"data row21 col0\" ><a target='_blank' href = 'https://urn.nb.no/URN:NBN:no-nb_digibok_2011093005029'>URN:NBN:no-nb_digibok_2011093005029</a></td>\n",
       "      <td id=\"T_f98b5_row21_col1\" class=\"data row21 col1\" >46.4.2 1970 - åra : <b>Kulturelt</b> <b>demokrati</b> og likestilling</td>\n",
       "    </tr>\n",
       "    <tr>\n",
       "      <th id=\"T_f98b5_level0_row22\" class=\"row_heading level0 row22\" >6</th>\n",
       "      <td id=\"T_f98b5_row22_col0\" class=\"data row22 col0\" ><a target='_blank' href = 'https://urn.nb.no/URN:NBN:no-nb_digibok_2011093005029'>URN:NBN:no-nb_digibok_2011093005029</a></td>\n",
       "      <td id=\"T_f98b5_row22_col1\" class=\"data row22 col1\" >... 3 Slik byråsjef Ingeborg Lyche såg det var ein enno \" bare ved begynnelsen av et <b>kulturelt</b> <b>demokrati</b> , dersom vi... </td>\n",
       "    </tr>\n",
       "    <tr>\n",
       "      <th id=\"T_f98b5_level0_row23\" class=\"row_heading level0 row23\" >2</th>\n",
       "      <td id=\"T_f98b5_row23_col0\" class=\"data row23 col0\" ><a target='_blank' href = 'https://urn.nb.no/URN:NBN:no-nb_digibok_2009050704007'>URN:NBN:no-nb_digibok_2009050704007</a></td>\n",
       "      <td id=\"T_f98b5_row23_col1\" class=\"data row23 col1\" >... Vest-Europa , både geografisk , økonomisk og <b>kulturelt</b> , og at vi er og vil være et vesteuropeisk <b>demokrati</b> . »</td>\n",
       "    </tr>\n",
       "    <tr>\n",
       "      <th id=\"T_f98b5_level0_row24\" class=\"row_heading level0 row24\" >36</th>\n",
       "      <td id=\"T_f98b5_row24_col0\" class=\"data row24 col0\" ><a target='_blank' href = 'https://urn.nb.no/URN:NBN:no-nb_digibok_2013110406153'>URN:NBN:no-nb_digibok_2013110406153</a></td>\n",
       "      <td id=\"T_f98b5_row24_col1\" class=\"data row24 col1\" >... og gjorde seg til talsmann for det han kaller <b>kulturelt</b> <b>demokrati</b> . Her er kulturpolitikken snudd på hodet , den... </td>\n",
       "    </tr>\n",
       "    <tr>\n",
       "      <th id=\"T_f98b5_level0_row25\" class=\"row_heading level0 row25\" >0</th>\n",
       "      <td id=\"T_f98b5_row25_col0\" class=\"data row25 col0\" ><a target='_blank' href = 'https://urn.nb.no/URN:NBN:no-nb_digibok_2009033104048'>URN:NBN:no-nb_digibok_2009033104048</a></td>\n",
       "      <td id=\"T_f98b5_row25_col1\" class=\"data row25 col1\" >... Vest-Europa , både geografisk , økonomisk og <b>kulturelt</b> , og at vi er og vil være et vesteuropeisk <b>demokrati</b> . »</td>\n",
       "    </tr>\n",
       "    <tr>\n",
       "      <th id=\"T_f98b5_level0_row26\" class=\"row_heading level0 row26\" >80</th>\n",
       "      <td id=\"T_f98b5_row26_col0\" class=\"data row26 col0\" ><a target='_blank' href = 'https://urn.nb.no/URN:NBN:no-nb_digibok_2019070848006'>URN:NBN:no-nb_digibok_2019070848006</a></td>\n",
       "      <td id=\"T_f98b5_row26_col1\" class=\"data row26 col1\" >... om menneskerettigheter , grunnlov og kanskje <b>demokrati</b> , oppfattet andre nasjonen som et <b>kulturelt</b> fellesskap , som man ikke valgte... </td>\n",
       "    </tr>\n",
       "    <tr>\n",
       "      <th id=\"T_f98b5_level0_row27\" class=\"row_heading level0 row27\" >29</th>\n",
       "      <td id=\"T_f98b5_row27_col0\" class=\"data row27 col0\" ><a target='_blank' href = 'https://urn.nb.no/URN:NBN:no-nb_digibok_2009072101019'>URN:NBN:no-nb_digibok_2009072101019</a></td>\n",
       "      <td id=\"T_f98b5_row27_col1\" class=\"data row27 col1\" >... Dette var oppfatninger som var dypt forankret i ideer om <b>kulturelt</b> <b>demokrati</b> . Jeg vil derfor også se gjennomføringen av... </td>\n",
       "    </tr>\n",
       "    <tr>\n",
       "      <th id=\"T_f98b5_level0_row28\" class=\"row_heading level0 row28\" >33</th>\n",
       "      <td id=\"T_f98b5_row28_col0\" class=\"data row28 col0\" ><a target='_blank' href = 'https://urn.nb.no/URN:NBN:no-nb_digibok_2009072101019'>URN:NBN:no-nb_digibok_2009072101019</a></td>\n",
       "      <td id=\"T_f98b5_row28_col1\" class=\"data row28 col1\" >... Denne måten å tenke kunstformidling på står i kontrast til de ideene om <b>kulturelt</b> <b>demokrati</b> som utviklet seg i Norge... </td>\n",
       "    </tr>\n",
       "    <tr>\n",
       "      <th id=\"T_f98b5_level0_row29\" class=\"row_heading level0 row29\" >23</th>\n",
       "      <td id=\"T_f98b5_row29_col0\" class=\"data row29 col0\" ><a target='_blank' href = 'https://urn.nb.no/URN:NBN:no-nb_digibok_2009072101019'>URN:NBN:no-nb_digibok_2009072101019</a></td>\n",
       "      <td id=\"T_f98b5_row29_col1\" class=\"data row29 col1\" >... kombinerer ideer om demokratisering av kulturen med ideer om <b>kulturelt</b> <b>demokrati</b> , dvs. både kulturspredningstanken og tankene om lokal medbestemmelse... </td>\n",
       "    </tr>\n",
       "    <tr>\n",
       "      <th id=\"T_f98b5_level0_row30\" class=\"row_heading level0 row30\" >51</th>\n",
       "      <td id=\"T_f98b5_row30_col0\" class=\"data row30 col0\" ><a target='_blank' href = 'https://urn.nb.no/URN:NBN:no-nb_digibok_2011091608297'>URN:NBN:no-nb_digibok_2011091608297</a></td>\n",
       "      <td id=\"T_f98b5_row30_col1\" class=\"data row30 col1\" >... Den nye kulturpolitikken representerte \" verkeleg <b>kulturelt</b> <b>demokrati</b> \" til skilnad frå den førre som gikk ut på kulturell demokratisering , og... </td>\n",
       "    </tr>\n",
       "    <tr>\n",
       "      <th id=\"T_f98b5_level0_row31\" class=\"row_heading level0 row31\" >11</th>\n",
       "      <td id=\"T_f98b5_row31_col0\" class=\"data row31 col0\" ><a target='_blank' href = 'https://urn.nb.no/URN:NBN:no-nb_digibok_2011093005029'>URN:NBN:no-nb_digibok_2011093005029</a></td>\n",
       "      <td id=\"T_f98b5_row31_col1\" class=\"data row31 col1\" >... førestellingar om commitment , social change og eit verkeleg <b>kulturelt</b> <b>demokrati</b> som vart slagordet for den nye kulturpolitikken . Da... </td>\n",
       "    </tr>\n",
       "    <tr>\n",
       "      <th id=\"T_f98b5_level0_row32\" class=\"row_heading level0 row32\" >8</th>\n",
       "      <td id=\"T_f98b5_row32_col0\" class=\"data row32 col0\" ><a target='_blank' href = 'https://urn.nb.no/URN:NBN:no-nb_digibok_2011093005029'>URN:NBN:no-nb_digibok_2011093005029</a></td>\n",
       "      <td id=\"T_f98b5_row32_col1\" class=\"data row32 col1\" >\" <b>Kulturelt</b> <b>demokrati</b> inneber at ein så stor del av folket som mogleg er med og formar og prioriterer det kulturarbeidet... </td>\n",
       "    </tr>\n",
       "    <tr>\n",
       "      <th id=\"T_f98b5_level0_row33\" class=\"row_heading level0 row33\" >79</th>\n",
       "      <td id=\"T_f98b5_row33_col0\" class=\"data row33 col0\" ><a target='_blank' href = 'https://urn.nb.no/URN:NBN:no-nb_digibok_2018073048040'>URN:NBN:no-nb_digibok_2018073048040</a></td>\n",
       "      <td id=\"T_f98b5_row33_col1\" class=\"data row33 col1\" >på 50 - og 60 - tallet hvor « <b>kulturelt</b> <b>demokrati</b> » ble et moteord , og politikken skulle ta utgangspunkt i... </td>\n",
       "    </tr>\n",
       "    <tr>\n",
       "      <th id=\"T_f98b5_level0_row34\" class=\"row_heading level0 row34\" >78</th>\n",
       "      <td id=\"T_f98b5_row34_col0\" class=\"data row34 col0\" ><a target='_blank' href = 'https://urn.nb.no/URN:NBN:no-nb_digibok_2018073048040'>URN:NBN:no-nb_digibok_2018073048040</a></td>\n",
       "      <td id=\"T_f98b5_row34_col1\" class=\"data row34 col1\" >... Girard stod for det han kalte « <b>kulturelt</b> <b>demokrati</b> » , som handlet om « å akseptere folkelige livsverdier og livsformer som grunnlag... </td>\n",
       "    </tr>\n",
       "    <tr>\n",
       "      <th id=\"T_f98b5_level0_row35\" class=\"row_heading level0 row35\" >62</th>\n",
       "      <td id=\"T_f98b5_row35_col0\" class=\"data row35 col0\" ><a target='_blank' href = 'https://urn.nb.no/URN:NBN:no-nb_pliktmonografi_000013079'>URN:NBN:no-nb_pliktmonografi_000013079</a></td>\n",
       "      <td id=\"T_f98b5_row35_col1\" class=\"data row35 col1\" >... Også her ble det lagt vekt på <b>kulturelt</b> <b>demokrati</b> , kulturell distriktsutbygging og desentralisering , like vilkår for alle og... </td>\n",
       "    </tr>\n",
       "    <tr>\n",
       "      <th id=\"T_f98b5_level0_row36\" class=\"row_heading level0 row36\" >61</th>\n",
       "      <td id=\"T_f98b5_row36_col0\" class=\"data row36 col0\" ><a target='_blank' href = 'https://urn.nb.no/URN:NBN:no-nb_pliktmonografi_000013079'>URN:NBN:no-nb_pliktmonografi_000013079</a></td>\n",
       "      <td id=\"T_f98b5_row36_col1\" class=\"data row36 col1\" >... Han så for seg at et globalt , transnasjonalt <b>kulturelt</b> <b>demokrati</b> skulle bli resultatet av en slik strategi .</td>\n",
       "    </tr>\n",
       "    <tr>\n",
       "      <th id=\"T_f98b5_level0_row37\" class=\"row_heading level0 row37\" >63</th>\n",
       "      <td id=\"T_f98b5_row37_col0\" class=\"data row37 col0\" ><a target='_blank' href = 'https://urn.nb.no/URN:NBN:no-nb_pliktmonografi_000013079'>URN:NBN:no-nb_pliktmonografi_000013079</a></td>\n",
       "      <td id=\"T_f98b5_row37_col1\" class=\"data row37 col1\" >... <b>Kulturelt</b> <b>demokrati</b> ble et sentralt begrep . Dette begrepet innebar at amatører , lokalsamfunn og flere samfunnsgrupper skulle innlemmes i... </td>\n",
       "    </tr>\n",
       "    <tr>\n",
       "      <th id=\"T_f98b5_level0_row38\" class=\"row_heading level0 row38\" >48</th>\n",
       "      <td id=\"T_f98b5_row38_col0\" class=\"data row38 col0\" ><a target='_blank' href = 'https://urn.nb.no/URN:NBN:no-nb_digibok_2011091608297'>URN:NBN:no-nb_digibok_2011091608297</a></td>\n",
       "      <td id=\"T_f98b5_row38_col1\" class=\"data row38 col1\" >38.5.2 1970 - åra : <b>Kulturelt</b> <b>demokrati</b> og likestilling 291</td>\n",
       "    </tr>\n",
       "    <tr>\n",
       "      <th id=\"T_f98b5_level0_row39\" class=\"row_heading level0 row39\" >65</th>\n",
       "      <td id=\"T_f98b5_row39_col0\" class=\"data row39 col0\" ><a target='_blank' href = 'https://urn.nb.no/URN:NBN:no-nb_pliktmonografi_000013475'>URN:NBN:no-nb_pliktmonografi_000013475</a></td>\n",
       "      <td id=\"T_f98b5_row39_col1\" class=\"data row39 col1\" >Menneskeverdet 264 Identitet og <b>kulturelt</b> mangfold 266 Kritisk tenkning og etisk bevissthet 267 <b>Demokrati</b> og medvirkning 269</td>\n",
       "    </tr>\n",
       "    <tr>\n",
       "      <th id=\"T_f98b5_level0_row40\" class=\"row_heading level0 row40\" >75</th>\n",
       "      <td id=\"T_f98b5_row40_col0\" class=\"data row40 col0\" ><a target='_blank' href = 'https://urn.nb.no/URN:NBN:no-nb_digibok_2018073048040'>URN:NBN:no-nb_digibok_2018073048040</a></td>\n",
       "      <td id=\"T_f98b5_row40_col1\" class=\"data row40 col1\" >1960 - 70 - tallet : <b>Kulturelt</b> <b>demokrati</b> 26</td>\n",
       "    </tr>\n",
       "    <tr>\n",
       "      <th id=\"T_f98b5_level0_row41\" class=\"row_heading level0 row41\" >41</th>\n",
       "      <td id=\"T_f98b5_row41_col0\" class=\"data row41 col0\" ><a target='_blank' href = 'https://urn.nb.no/URN:NBN:no-nb_digibok_2011060106139'>URN:NBN:no-nb_digibok_2011060106139</a></td>\n",
       "      <td id=\"T_f98b5_row41_col1\" class=\"data row41 col1\" >For hvem vil vel forsvare « finkulturen » mot folket eller være motstander av virkelig <b>kulturelt</b> <b>demokrati</b> ? Noe senere blir hovedstadens... </td>\n",
       "    </tr>\n",
       "    <tr>\n",
       "      <th id=\"T_f98b5_level0_row42\" class=\"row_heading level0 row42\" >27</th>\n",
       "      <td id=\"T_f98b5_row42_col0\" class=\"data row42 col0\" ><a target='_blank' href = 'https://urn.nb.no/URN:NBN:no-nb_digibok_2009072101019'>URN:NBN:no-nb_digibok_2009072101019</a></td>\n",
       "      <td id=\"T_f98b5_row42_col1\" class=\"data row42 col1\" >... Etableringen av kulturetater i kommunene var de konkrete resultatene av ideer om <b>kulturelt</b> <b>demokrati</b> slik disse utviklet seg i norsk... </td>\n",
       "    </tr>\n",
       "    <tr>\n",
       "      <th id=\"T_f98b5_level0_row43\" class=\"row_heading level0 row43\" >74</th>\n",
       "      <td id=\"T_f98b5_row43_col0\" class=\"data row43 col0\" ><a target='_blank' href = 'https://urn.nb.no/URN:NBN:no-nb_digibok_2018030148078'>URN:NBN:no-nb_digibok_2018030148078</a></td>\n",
       "      <td id=\"T_f98b5_row43_col1\" class=\"data row43 col1\" >En ny stortingsmelding fra 1981 - 82 drøftet vilkårene for økt <b>kulturelt</b> <b>demokrati</b> . Kunsten skulle spres , og man... </td>\n",
       "    </tr>\n",
       "    <tr>\n",
       "      <th id=\"T_f98b5_level0_row44\" class=\"row_heading level0 row44\" >70</th>\n",
       "      <td id=\"T_f98b5_row44_col0\" class=\"data row44 col0\" ><a target='_blank' href = 'https://urn.nb.no/URN:NBN:no-nb_digibok_2020060548563'>URN:NBN:no-nb_digibok_2020060548563</a></td>\n",
       "      <td id=\"T_f98b5_row44_col1\" class=\"data row44 col1\" >... fra undertrykkelse til individuell frihet og <b>demokrati</b> . Utryddelsen av analfabetismen var et <b>kulturelt</b> vendepunkt i Norges historie , som... </td>\n",
       "    </tr>\n",
       "    <tr>\n",
       "      <th id=\"T_f98b5_level0_row45\" class=\"row_heading level0 row45\" >1</th>\n",
       "      <td id=\"T_f98b5_row45_col0\" class=\"data row45 col0\" ><a target='_blank' href = 'https://urn.nb.no/URN:NBN:no-nb_digibok_2009021000060'>URN:NBN:no-nb_digibok_2009021000060</a></td>\n",
       "      <td id=\"T_f98b5_row45_col1\" class=\"data row45 col1\" >... Vest-Europa , både geografisk , økonomisk og <b>kulturelt</b> , og at vi er og vil være et vesteuropeisk <b>demokrati</b> . »</td>\n",
       "    </tr>\n",
       "    <tr>\n",
       "      <th id=\"T_f98b5_level0_row46\" class=\"row_heading level0 row46\" >72</th>\n",
       "      <td id=\"T_f98b5_row46_col0\" class=\"data row46 col0\" ><a target='_blank' href = 'https://urn.nb.no/URN:NBN:no-nb_digibok_2018020948108'>URN:NBN:no-nb_digibok_2018020948108</a></td>\n",
       "      <td id=\"T_f98b5_row46_col1\" class=\"data row46 col1\" >... riksting ” , ” de faglige organisasjoner ” , \" <b>kulturelt</b> og økonomisk selvstyre ” , ” regjeringens stilling ” og ” et nasjonalt <b>demokrati</b> ” bl.a. følgende :</td>\n",
       "    </tr>\n",
       "    <tr>\n",
       "      <th id=\"T_f98b5_level0_row47\" class=\"row_heading level0 row47\" >12</th>\n",
       "      <td id=\"T_f98b5_row47_col0\" class=\"data row47 col0\" ><a target='_blank' href = 'https://urn.nb.no/URN:NBN:no-nb_digibok_2011032208040'>URN:NBN:no-nb_digibok_2011032208040</a></td>\n",
       "      <td id=\"T_f98b5_row47_col1\" class=\"data row47 col1\" >... Spørgsmålet om <b>kulturelt</b> <b>demokrati</b> kan nemlig nok siges at kunne danne bolværk mod kulturimperialisme , men kan på den anden... </td>\n",
       "    </tr>\n",
       "    <tr>\n",
       "      <th id=\"T_f98b5_level0_row48\" class=\"row_heading level0 row48\" >67</th>\n",
       "      <td id=\"T_f98b5_row48_col0\" class=\"data row48 col0\" ><a target='_blank' href = 'https://urn.nb.no/URN:NBN:no-nb_pliktmonografi_000013475'>URN:NBN:no-nb_pliktmonografi_000013475</a></td>\n",
       "      <td id=\"T_f98b5_row48_col1\" class=\"data row48 col1\" >... Disse temaene er menneskeverdet , identitet og <b>kulturelt</b> mangfold , kritisk tenkning og etisk bevissthet , og <b>demokrati</b> og medvirkning... </td>\n",
       "    </tr>\n",
       "    <tr>\n",
       "      <th id=\"T_f98b5_level0_row49\" class=\"row_heading level0 row49\" >81</th>\n",
       "      <td id=\"T_f98b5_row49_col0\" class=\"data row49 col0\" ><a target='_blank' href = 'https://urn.nb.no/URN:NBN:no-nb_digibok_2020040248215'>URN:NBN:no-nb_digibok_2020040248215</a></td>\n",
       "      <td id=\"T_f98b5_row49_col1\" class=\"data row49 col1\" >... kriterier som menneskerettigheter og <b>demokrati</b> , har andre betraktet norske verdier med utgangspunkt i et <b>kulturelt</b> aspekt . I vår... </td>\n",
       "    </tr>\n",
       "  </tbody>\n",
       "</table>\n"
      ],
      "text/plain": [
       "<pandas.io.formats.style.Styler at 0x7fbe2b4a62f0>"
      ]
     },
     "execution_count": 507,
     "metadata": {},
     "output_type": "execute_result"
    }
   ],
   "source": [
    "c.show(50)"
   ]
  },
  {
   "cell_type": "code",
   "execution_count": 391,
   "id": "11382208-809f-44d9-b8be-ba30600ded19",
   "metadata": {
    "tags": []
   },
   "outputs": [
    {
     "data": {
      "text/plain": [
       "<ipydagred3.edge.Edge at 0x7fbe2dc4e410>"
      ]
     },
     "execution_count": 391,
     "metadata": {},
     "output_type": "execute_result"
    }
   ],
   "source": [
    "g = dp.Graph()\n",
    "states = [\"doser\", \"med\", \"vaksine\"]\n",
    "for state in states:\n",
    "    g.setNode(state, tooltip='tooltip1 of ' + state)\n",
    "g.setEdge(\"doser\",     \"med\",     label=\"2.9\")\n",
    "g.setEdge(\"med\",     \"vaksine\",   label=\"3.0\")\n",
    "g.setEdge(\"doser\",     \"vaksine\",   label=\"2.5\")\n"
   ]
  },
  {
   "cell_type": "code",
   "execution_count": 392,
   "id": "16534eb1-86e6-46dd-9886-57297250cf4f",
   "metadata": {
    "tags": []
   },
   "outputs": [
    {
     "data": {
      "application/vnd.jupyter.widget-view+json": {
       "model_id": "699a924af01b4109b17fca6ec3344d2b",
       "version_major": 2,
       "version_minor": 0
      },
      "text/plain": [
       "DagreD3Widget()"
      ]
     },
     "execution_count": 392,
     "metadata": {},
     "output_type": "execute_result"
    }
   ],
   "source": [
    "widget = dp.DagreD3Widget(graph=g)\n",
    "widget"
   ]
  },
  {
   "cell_type": "code",
   "execution_count": 395,
   "id": "d2e3ec66-3c66-450a-9f51-c75117d98364",
   "metadata": {
    "tags": []
   },
   "outputs": [],
   "source": [
    "right_df['score'] = right_df['mean']*right_df['std']"
   ]
  },
  {
   "cell_type": "code",
   "execution_count": 398,
   "id": "20ff7317-6765-4e2f-905d-2cef5a0ed8f4",
   "metadata": {
    "tags": []
   },
   "outputs": [
    {
     "data": {
      "text/html": [
       "<div>\n",
       "<style scoped>\n",
       "    .dataframe tbody tr th:only-of-type {\n",
       "        vertical-align: middle;\n",
       "    }\n",
       "\n",
       "    .dataframe tbody tr th {\n",
       "        vertical-align: top;\n",
       "    }\n",
       "\n",
       "    .dataframe thead th {\n",
       "        text-align: right;\n",
       "    }\n",
       "</style>\n",
       "<table border=\"1\" class=\"dataframe\">\n",
       "  <thead>\n",
       "    <tr style=\"text-align: right;\">\n",
       "      <th></th>\n",
       "      <th>count</th>\n",
       "      <th>mean</th>\n",
       "      <th>std</th>\n",
       "      <th>score</th>\n",
       "    </tr>\n",
       "  </thead>\n",
       "  <tbody>\n",
       "    <tr>\n",
       "      <th>narkotika</th>\n",
       "      <td>12.0</td>\n",
       "      <td>0.000000</td>\n",
       "      <td>0.000000</td>\n",
       "      <td>0.000000</td>\n",
       "    </tr>\n",
       "    <tr>\n",
       "      <th>pr.</th>\n",
       "      <td>12.0</td>\n",
       "      <td>0.000000</td>\n",
       "      <td>0.000000</td>\n",
       "      <td>0.000000</td>\n",
       "    </tr>\n",
       "    <tr>\n",
       "      <th>varme</th>\n",
       "      <td>5.0</td>\n",
       "      <td>0.000000</td>\n",
       "      <td>0.000000</td>\n",
       "      <td>0.000000</td>\n",
       "    </tr>\n",
       "    <tr>\n",
       "      <th>russiske</th>\n",
       "      <td>5.0</td>\n",
       "      <td>2.000000</td>\n",
       "      <td>0.000000</td>\n",
       "      <td>0.000000</td>\n",
       "    </tr>\n",
       "    <tr>\n",
       "      <th>ulovlig</th>\n",
       "      <td>5.0</td>\n",
       "      <td>7.000000</td>\n",
       "      <td>0.000000</td>\n",
       "      <td>0.000000</td>\n",
       "    </tr>\n",
       "    <tr>\n",
       "      <th>yUke</th>\n",
       "      <td>5.0</td>\n",
       "      <td>0.400000</td>\n",
       "      <td>0.547723</td>\n",
       "      <td>0.219089</td>\n",
       "    </tr>\n",
       "    <tr>\n",
       "      <th>kokain</th>\n",
       "      <td>7.0</td>\n",
       "      <td>0.428571</td>\n",
       "      <td>0.534522</td>\n",
       "      <td>0.229081</td>\n",
       "    </tr>\n",
       "    <tr>\n",
       "      <th>leveres</th>\n",
       "      <td>6.0</td>\n",
       "      <td>1.166667</td>\n",
       "      <td>0.408248</td>\n",
       "      <td>0.476290</td>\n",
       "    </tr>\n",
       "    <tr>\n",
       "      <th>innbygger</th>\n",
       "      <td>9.0</td>\n",
       "      <td>1.555556</td>\n",
       "      <td>0.527046</td>\n",
       "      <td>0.819850</td>\n",
       "    </tr>\n",
       "    <tr>\n",
       "      <th>Astra-</th>\n",
       "      <td>6.0</td>\n",
       "      <td>1.000000</td>\n",
       "      <td>1.095445</td>\n",
       "      <td>1.095445</td>\n",
       "    </tr>\n",
       "    <tr>\n",
       "      <th>cellegift</th>\n",
       "      <td>6.0</td>\n",
       "      <td>1.166667</td>\n",
       "      <td>0.983192</td>\n",
       "      <td>1.147057</td>\n",
       "    </tr>\n",
       "    <tr>\n",
       "      <th>tilgjengelig</th>\n",
       "      <td>18.0</td>\n",
       "      <td>1.000000</td>\n",
       "      <td>1.328422</td>\n",
       "      <td>1.328422</td>\n",
       "    </tr>\n",
       "    <tr>\n",
       "      <th>AstraZeneca-vaksinen</th>\n",
       "      <td>18.0</td>\n",
       "      <td>1.444444</td>\n",
       "      <td>1.041618</td>\n",
       "      <td>1.504559</td>\n",
       "    </tr>\n",
       "    <tr>\n",
       "      <th>distribueres</th>\n",
       "      <td>6.0</td>\n",
       "      <td>1.166667</td>\n",
       "      <td>1.329160</td>\n",
       "      <td>1.550687</td>\n",
       "    </tr>\n",
       "    <tr>\n",
       "      <th>Pfizers</th>\n",
       "      <td>7.0</td>\n",
       "      <td>1.428571</td>\n",
       "      <td>1.133893</td>\n",
       "      <td>1.619848</td>\n",
       "    </tr>\n",
       "    <tr>\n",
       "      <th>framover</th>\n",
       "      <td>8.0</td>\n",
       "      <td>1.375000</td>\n",
       "      <td>1.187735</td>\n",
       "      <td>1.633136</td>\n",
       "    </tr>\n",
       "    <tr>\n",
       "      <th>influensavaksine</th>\n",
       "      <td>6.0</td>\n",
       "      <td>1.166667</td>\n",
       "      <td>1.471960</td>\n",
       "      <td>1.717287</td>\n",
       "    </tr>\n",
       "    <tr>\n",
       "      <th>mottar</th>\n",
       "      <td>10.0</td>\n",
       "      <td>1.600000</td>\n",
       "      <td>1.074968</td>\n",
       "      <td>1.719948</td>\n",
       "    </tr>\n",
       "    <tr>\n",
       "      <th>Zeneca-vaksinen</th>\n",
       "      <td>7.0</td>\n",
       "      <td>2.285714</td>\n",
       "      <td>0.755929</td>\n",
       "      <td>1.727838</td>\n",
       "    </tr>\n",
       "    <tr>\n",
       "      <th>Sputnik</th>\n",
       "      <td>7.0</td>\n",
       "      <td>2.000000</td>\n",
       "      <td>1.000000</td>\n",
       "      <td>2.000000</td>\n",
       "    </tr>\n",
       "  </tbody>\n",
       "</table>\n",
       "</div>"
      ],
      "text/plain": [
       "                      count      mean       std     score\n",
       "narkotika              12.0  0.000000  0.000000  0.000000\n",
       "pr.                    12.0  0.000000  0.000000  0.000000\n",
       "varme                   5.0  0.000000  0.000000  0.000000\n",
       "russiske                5.0  2.000000  0.000000  0.000000\n",
       "ulovlig                 5.0  7.000000  0.000000  0.000000\n",
       "yUke                    5.0  0.400000  0.547723  0.219089\n",
       "kokain                  7.0  0.428571  0.534522  0.229081\n",
       "leveres                 6.0  1.166667  0.408248  0.476290\n",
       "innbygger               9.0  1.555556  0.527046  0.819850\n",
       "Astra-                  6.0  1.000000  1.095445  1.095445\n",
       "cellegift               6.0  1.166667  0.983192  1.147057\n",
       "tilgjengelig           18.0  1.000000  1.328422  1.328422\n",
       "AstraZeneca-vaksinen   18.0  1.444444  1.041618  1.504559\n",
       "distribueres            6.0  1.166667  1.329160  1.550687\n",
       "Pfizers                 7.0  1.428571  1.133893  1.619848\n",
       "framover                8.0  1.375000  1.187735  1.633136\n",
       "influensavaksine        6.0  1.166667  1.471960  1.717287\n",
       "mottar                 10.0  1.600000  1.074968  1.719948\n",
       "Zeneca-vaksinen         7.0  2.285714  0.755929  1.727838\n",
       "Sputnik                 7.0  2.000000  1.000000  2.000000"
      ]
     },
     "execution_count": 398,
     "metadata": {},
     "output_type": "execute_result"
    }
   ],
   "source": [
    "right_df.sort_values(by = 'score').head(20)"
   ]
  }
 ],
 "metadata": {
  "kernelspec": {
   "display_name": "Python 3 (ipykernel)",
   "language": "python",
   "name": "python3"
  },
  "language_info": {
   "codemirror_mode": {
    "name": "ipython",
    "version": 3
   },
   "file_extension": ".py",
   "mimetype": "text/x-python",
   "name": "python",
   "nbconvert_exporter": "python",
   "pygments_lexer": "ipython3",
   "version": "3.10.9"
  }
 },
 "nbformat": 4,
 "nbformat_minor": 5
}
